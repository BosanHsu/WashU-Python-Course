{
 "cells": [
  {
   "cell_type": "markdown",
   "metadata": {},
   "source": [
    "*Reminder: For each question below, provide solutions using both your own code and ChatGPT's code. To get the ChatGPT solution, simply copy the question, paste it into ChatGPT, and then share the resulting code. However, when it comes to your own solution, you must write the code independently.*"
   ]
  },
  {
   "cell_type": "markdown",
   "metadata": {
    "deletable": false,
    "editable": false,
    "nbgrader": {
     "cell_type": "markdown",
     "checksum": "49035484cfc3ce00170b09ba91d47f56",
     "grade": false,
     "grade_id": "cell-a4c41f39205051c2",
     "locked": true,
     "schema_version": 3,
     "solution": false
    }
   },
   "source": [
    "# Homework 4\n",
    "\n",
    "In this HW, we will study the pay gap between men and women who have jobs in San Francisco.  We will use the following two csv files to accomplish this task.\n",
    "\n",
    "- Salaries.csv : contains salaries for over 100K employees in SF from 2011 to 2014.\n",
    "- Names.csv :  contains baby names from 1980 to 2014 along with counts of how many times the given baby name was used.\n",
    "\n",
    "We would like to find the average salary of men and women over all jobs from 2011 to 2014.  The problem, however, is that the Salaries.csv does not contain gender.  Futher, there are many names that are unisex.  Since we have counts in the file Names.csv, we use a majority vote to label the gender of each name in Names.csv. \n",
    "\n",
    "You will be asked to write a series of functions to implement this task. \n",
    "\n",
    "**Note: Unlike previous homeworks, the problems in this homework are inter-dependent in the sense that you can only pass the test for problem n if you have passed the test cases in problem n-1, since normally problem n requires to call the function in problem n-1.**\n",
    "\n",
    "\n",
    "## Problem 1 Read the data\n",
    "\n",
    "The following functions **ReadData** will read in the salary and the names data as pandas dataframes and return a list which contains these two dataframes. "
   ]
  },
  {
   "cell_type": "code",
   "execution_count": 1,
   "metadata": {
    "deletable": false,
    "nbgrader": {
     "cell_type": "code",
     "checksum": "f4af827d851fd6baffe76da057c2df70",
     "grade": false,
     "grade_id": "cell-b78086c290d4a60c",
     "locked": false,
     "schema_version": 3,
     "solution": true
    }
   },
   "outputs": [
    {
     "name": "stdout",
     "output_type": "stream",
     "text": [
      "(24713, 5)\n"
     ]
    }
   ],
   "source": [
    "#Place your import here\n",
    "import pandas as pd\n",
    "import numpy as np\n",
    "\n",
    "def ReadData():\n",
    "    df_salaries = pd.read_csv(\"Data/Salaries.csv\")\n",
    "    df_names = pd.read_csv(\"Data/Names.csv\")\n",
    "    \n",
    "    return [df_salaries, df_names]\n",
    "\n",
    "\n",
    "[df_salaries, df_names] = ReadData()\n",
    "\n",
    "# Print the actual shape for debugging\n",
    "print(df_names.shape)"
   ]
  },
  {
   "cell_type": "code",
   "execution_count": 2,
   "metadata": {
    "deletable": false,
    "editable": false,
    "nbgrader": {
     "cell_type": "code",
     "checksum": "dfef4b07702ec7c3d6c621c965877c57",
     "grade": true,
     "grade_id": "cell-2853176972493b6e",
     "locked": true,
     "points": 10,
     "schema_version": 3,
     "solution": false
    }
   },
   "outputs": [],
   "source": [
    "[df_salaries, df_names] = ReadData()\n",
    "assert df_names.shape == (24713, 5)"
   ]
  },
  {
   "cell_type": "code",
   "execution_count": 4,
   "metadata": {
    "deletable": false,
    "editable": false,
    "nbgrader": {
     "cell_type": "code",
     "checksum": "63f0c5dc5eeb54db46953916b3455264",
     "grade": true,
     "grade_id": "cell-b16dd3056b5a9f95",
     "locked": true,
     "points": 10,
     "schema_version": 3,
     "solution": false
    }
   },
   "outputs": [],
   "source": [
    "[df_salaries, df_names] = ReadData()\n",
    "assert df_salaries.shape == (27386, 6)"
   ]
  },
  {
   "cell_type": "code",
   "execution_count": null,
   "metadata": {},
   "outputs": [],
   "source": [
    "#Write ChatGPT code here"
   ]
  },
  {
   "cell_type": "markdown",
   "metadata": {
    "deletable": false,
    "editable": false,
    "nbgrader": {
     "cell_type": "markdown",
     "checksum": "901bf80d1c1cd9f2e28dcc013827e936",
     "grade": false,
     "grade_id": "cell-1c14a1786a26dc5a",
     "locked": true,
     "schema_version": 3,
     "solution": false
    }
   },
   "source": [
    "## Problem 2 Get name counts\n",
    "\n",
    "The following functions **ParseNames** will take the name dataframe as an input. It will then output two dictionaries called male_name and female_name. The key in each of these dictionaries will be the names (in all lowercase) and the value will be the sum of counts for the given name when it applied to the given gender. Note that the same name may appear in both the male and female gender.\n",
    "\n",
    "For this function, USE ONLY ITERROWS(), NO GROUPING OR FILTERING YET! "
   ]
  },
  {
   "cell_type": "code",
   "execution_count": 13,
   "metadata": {
    "deletable": false,
    "nbgrader": {
     "cell_type": "code",
     "checksum": "06982f0816543b16e5b4e9b860bc9dd6",
     "grade": false,
     "grade_id": "cell-562beecb93f03f23",
     "locked": false,
     "schema_version": 3,
     "solution": true
    },
    "scrolled": true
   },
   "outputs": [],
   "source": [
    "#Write your code here\n",
    "\n",
    "def ParseNames(df_names):\n",
    "    \"\"\"\n",
    "    INPUT: the pandas dataframe contains names.csv\n",
    "    OUTPUT: two dictionaries: male_names, female_name.\n",
    "    The key in each of these dictionaries will be names \n",
    "    (in all lowercase) and the value will be the sum of the \n",
    "    counts for the given name when it applies to the given gender.\n",
    "    USE ONLY ITERROWS(), NO GROUPING OR FILTERING YET!\n",
    "    This above function will take a minute or two to run.\n",
    "    \"\"\"\n",
    "    \n",
    "    # Initialize empty dictionaries for names\n",
    "    male_names = {}\n",
    "    female_names = {}\n",
    "    \n",
    "    for index, row in df_names.iterrows():\n",
    "        name = row['Name'].lower()\n",
    "        count = row['Count']\n",
    "        gender = row['Gender']\n",
    "        \n",
    "        if gender == 'M':\n",
    "            male_names[name] = male_names.get(name, 0) + count\n",
    "        elif gender == 'F':\n",
    "            female_names[name] = female_names.get(name, 0) + count\n",
    "    \n",
    "    return male_names, female_names\n",
    "\n",
    "# Assuming df_names is already defined\n",
    "male_names, female_names = ParseNames(df_names)\n"
   ]
  },
  {
   "cell_type": "code",
   "execution_count": 14,
   "metadata": {
    "deletable": false,
    "editable": false,
    "nbgrader": {
     "cell_type": "code",
     "checksum": "44a873b7149d9b1250ecb9868538709f",
     "grade": true,
     "grade_id": "cell-681343a4d7e22bbd",
     "locked": true,
     "points": 20,
     "schema_version": 3,
     "solution": false
    }
   },
   "outputs": [],
   "source": [
    "[male_names, female_names] = ParseNames(df_names)\n",
    "assert len(male_names) == 9482\n",
    "assert len(female_names) == 15231"
   ]
  },
  {
   "cell_type": "code",
   "execution_count": null,
   "metadata": {},
   "outputs": [],
   "source": [
    "#Write ChatGPT code here"
   ]
  },
  {
   "cell_type": "markdown",
   "metadata": {
    "deletable": false,
    "editable": false,
    "nbgrader": {
     "cell_type": "markdown",
     "checksum": "128b8e09c9f0164a3ccf51701a2e26ef",
     "grade": false,
     "grade_id": "cell-2126eb613c731192",
     "locked": true,
     "schema_version": 3,
     "solution": false
    }
   },
   "source": [
    "## Problem 3 Get First Name\n",
    "\n",
    "This following functions **GetFirstName** will take a name of a person (name contains first and last names separated by spaces) and return the lower case of the first name of the person. \n"
   ]
  },
  {
   "cell_type": "code",
   "execution_count": 18,
   "metadata": {
    "deletable": false,
    "nbgrader": {
     "cell_type": "code",
     "checksum": "acd25cb858ee313606a140971c5e4730",
     "grade": false,
     "grade_id": "cell-a3c8e33b23a52cfd",
     "locked": false,
     "schema_version": 3,
     "solution": true
    }
   },
   "outputs": [],
   "source": [
    "#Write your code here\n",
    "\n",
    "def GetFirstName(name):\n",
    "    \n",
    "    \"\"\"\n",
    "    Gets the first name from a name in the column\n",
    "    EmployeeName in Salaries.csv.\n",
    "    INPUT: name as string\n",
    "    OUTPUT: first name in all lowercase\n",
    "    \"\"\"\n",
    "    first_name = \"\"\n",
    "    \n",
    "    for character in name:\n",
    "        if character != \" \":\n",
    "            first_name += character.lower()\n",
    "        else:\n",
    "            break\n",
    "\n",
    "\n",
    "    # YOUR CODE HERE\n",
    "    #raise NotImplementedError()\n",
    "    \n",
    "    return first_name"
   ]
  },
  {
   "cell_type": "code",
   "execution_count": 19,
   "metadata": {
    "deletable": false,
    "editable": false,
    "nbgrader": {
     "cell_type": "code",
     "checksum": "3a214e75d959896beb5164cbd6ec84c1",
     "grade": true,
     "grade_id": "cell-d143e38c322d9286",
     "locked": true,
     "points": 10,
     "schema_version": 3,
     "solution": false
    }
   },
   "outputs": [],
   "source": [
    "assert GetFirstName(\"Dennis Zhang\") == \"dennis\""
   ]
  },
  {
   "cell_type": "code",
   "execution_count": null,
   "metadata": {},
   "outputs": [],
   "source": [
    "#Write ChatGPT code here"
   ]
  },
  {
   "cell_type": "markdown",
   "metadata": {
    "deletable": false,
    "editable": false,
    "nbgrader": {
     "cell_type": "markdown",
     "checksum": "7455e31c4a46be1df7c0e927906a056d",
     "grade": false,
     "grade_id": "cell-25548f70e5984803",
     "locked": true,
     "schema_version": 3,
     "solution": false
    }
   },
   "source": [
    "## Problem 4 GetGender\n",
    "\n",
    "This function takes in the dictionary for the male and female names from **ParseNames**, and a first name. It then returns \"M\" if the first name appears more times in male_names than female_names, \"F\" if the first name appears more times in female_names than male_names (or the two fequencies are the same), and \"NA\" if the name does not appear in either male_names nor female_names."
   ]
  },
  {
   "cell_type": "code",
   "execution_count": 23,
   "metadata": {
    "deletable": false,
    "nbgrader": {
     "cell_type": "code",
     "checksum": "9f875a784bcf7bc04d9b82754a910eb8",
     "grade": false,
     "grade_id": "cell-72cf7018f4d695a2",
     "locked": false,
     "schema_version": 3,
     "solution": true
    }
   },
   "outputs": [],
   "source": [
    "#Write your code here\n",
    "\n",
    "def AddGender(first_name, male_names, female_names):\n",
    "    \n",
    "    \"\"\"\n",
    "    Find the most likely gender associated with a first name.\n",
    "    \n",
    "    INPUT: first_name, males_names and females_names which are the dictionaries \n",
    "    returned from ParseNames().\n",
    "    \n",
    "    OUTPUT:\n",
    "    \"M\" if male_names[name] > female_names[name]\n",
    "    \n",
    "    \"F\" if male_names[name] <= female_names[name]\n",
    "    \n",
    "    \"NaN\" if the name doesn't apper in either dictionary\n",
    "    \"\"\"\n",
    "    male_count = male_names.get(first_name, 0)\n",
    "    female_count = female_names.get(first_name, 0)\n",
    "    \n",
    "    if male_count == 0 and female_count ==0:\n",
    "        return_gender = \"NaN\"\n",
    "    elif male_count > female_count:\n",
    "        return_gender = \"M\"\n",
    "    else:\n",
    "        return_gender = \"F\"\n",
    "    \n",
    "    return return_gender"
   ]
  },
  {
   "cell_type": "code",
   "execution_count": 26,
   "metadata": {
    "deletable": false,
    "editable": false,
    "nbgrader": {
     "cell_type": "code",
     "checksum": "e7ca6818511cede66f8ccc62b7ec1331",
     "grade": true,
     "grade_id": "cell-06c7dc215450e8bd",
     "locked": true,
     "points": 30,
     "schema_version": 3,
     "solution": false
    }
   },
   "outputs": [],
   "source": [
    "[df_salaries, df_names] = ReadData()\n",
    "assert AddGender(\"charles\", male_names, female_names) == \"M\"\n",
    "assert AddGender(\"jasmine\", male_names, female_names) == \"F\"\n",
    "assert AddGender(\"dennis\", male_names, female_names) == \"M\""
   ]
  },
  {
   "cell_type": "code",
   "execution_count": null,
   "metadata": {},
   "outputs": [],
   "source": [
    "#Write ChatGPT code here"
   ]
  },
  {
   "cell_type": "markdown",
   "metadata": {
    "deletable": false,
    "editable": false,
    "nbgrader": {
     "cell_type": "markdown",
     "checksum": "7f924cd85e35045688430c808a67c93b",
     "grade": false,
     "grade_id": "cell-54b0b19c944c5748",
     "locked": true,
     "schema_version": 3,
     "solution": false
    }
   },
   "source": [
    "## Problem 5 AddGenderToDF\n",
    "\n",
    "This function takes the df_salary dataset and adds a new column called \"gender\". The function will assign gender to each row in df_salary based on the first name of the person as well as the male_names and female_names dictionaries. You should use AddGender() and GetFirstName() to implement this function. The function then returns the dataframe with the new column \"gender\"."
   ]
  },
  {
   "cell_type": "code",
   "execution_count": 54,
   "metadata": {
    "deletable": false,
    "nbgrader": {
     "cell_type": "code",
     "checksum": "ed4b250904f8abbc63f1a119d5e379ad",
     "grade": false,
     "grade_id": "cell-0883ce51c4158f89",
     "locked": false,
     "schema_version": 3,
     "solution": true
    }
   },
   "outputs": [],
   "source": [
    "#Write your code here\n",
    "\n",
    "def AddGenderToDF(df_salaries, male_names, female_names):\n",
    "    \"\"\"\n",
    "    This function will return a new dataframe with two new columns\n",
    "    on top of the existing columns in df_salaries. \n",
    "    \n",
    "    The first column is called \"first_name\" which contains the first\n",
    "    name of the person.\n",
    "    \n",
    "    The second column is called \"gender\" which contains the gender\n",
    "    inforamtion of the person from the AddGender() function.\n",
    "    \"\"\"\n",
    "    df_salaries[\"first_name\"] = df_salaries[\"EmployeeName\"].apply(lambda name: GetFirstName(name) )\n",
    "    df_salaries[\"gender\"] = df_salaries[\"first_name\"].apply(lambda name: AddGender(name, male_names, female_names))\n",
    "    \n",
    "    return df_salaries"
   ]
  },
  {
   "cell_type": "code",
   "execution_count": 55,
   "metadata": {
    "deletable": false,
    "editable": false,
    "nbgrader": {
     "cell_type": "code",
     "checksum": "a606f3b66a84ac3bc2264a0a2e9cc1be",
     "grade": true,
     "grade_id": "cell-68a8db03a3cde020",
     "locked": true,
     "points": 20,
     "schema_version": 3,
     "solution": false
    }
   },
   "outputs": [],
   "source": [
    "[df_salaries, df_names] = ReadData()\n",
    "df_salaries = AddGenderToDF(df_salaries, male_names, female_names)\n",
    "\n",
    "assert df_salaries[df_salaries[\"EmployeeName\"] == \"GARY JIMENEZ\"][\"first_name\"].tolist()[0] == \"gary\"\n",
    "assert df_salaries[df_salaries[\"EmployeeName\"] == \"GARY JIMENEZ\"][\"gender\"].tolist()[0] == \"M\""
   ]
  },
  {
   "cell_type": "code",
   "execution_count": 49,
   "metadata": {},
   "outputs": [],
   "source": [
    "#Write ChatGPT code here\n"
   ]
  },
  {
   "cell_type": "markdown",
   "metadata": {
    "deletable": false,
    "editable": false,
    "nbgrader": {
     "cell_type": "markdown",
     "checksum": "9da77c91882776e4dc5df766b44eb984",
     "grade": false,
     "grade_id": "cell-423f9e7e6f9762cc",
     "locked": true,
     "schema_version": 3,
     "solution": false
    }
   },
   "source": [
    "## Problem 6 Compute the Average Salary\n",
    "\n",
    "In this problem, you will implement a function called **ComputeAvgSalary**. This function takes in the df_salaries dataframe (this dataframe already has a new column called \"gender\", which indicates teh gender\". The function returns two numbers: male_avg_salary and female_avg_salary. male_avg_salary (female_avg_salary) is the average salary for male (female) workers."
   ]
  },
  {
   "cell_type": "code",
   "execution_count": 79,
   "metadata": {
    "deletable": false,
    "nbgrader": {
     "cell_type": "code",
     "checksum": "767d6b98f3ada1d7a5df6a9ea86b49a3",
     "grade": false,
     "grade_id": "cell-7d067159af23c7d1",
     "locked": false,
     "schema_version": 3,
     "solution": true
    }
   },
   "outputs": [
    {
     "data": {
      "text/plain": [
       "97774.57"
      ]
     },
     "execution_count": 79,
     "metadata": {},
     "output_type": "execute_result"
    }
   ],
   "source": [
    "#Write your code here\n",
    "\n",
    "def ComputeAvgSalary(df_salaries):\n",
    "    \"\"\"\n",
    "    This function takes the new salary dataframe with gender and\n",
    "    first_name columns. It returns the the average salary of male\n",
    "    and female workers. \n",
    "    \"\"\"\n",
    "    female_total_salary = 0\n",
    "    male_total_salary = 0\n",
    "    female_count = 0\n",
    "    male_count = 0\n",
    "    \n",
    "    for index, row in df_salaries.iterrows():\n",
    "        if row[\"gender\"] == \"F\":\n",
    "            female_total_salary += float(row[\"Total_Pay\"])\n",
    "            female_count += 1\n",
    "        elif row[\"gender\"] == \"M\":\n",
    "            male_total_salary += float(row[\"Total_Pay\"])\n",
    "            male_count += 1\n",
    "            \n",
    "    female_avg_salary = round( female_total_salary/female_count, 2 )\n",
    "    male_avg_salary = round( male_total_salary/male_count, 2 )\n",
    "    \n",
    "    return [male_avg_salary, female_avg_salary]"
   ]
  },
  {
   "cell_type": "code",
   "execution_count": 80,
   "metadata": {
    "deletable": false,
    "editable": false,
    "nbgrader": {
     "cell_type": "code",
     "checksum": "43305cd27f0e4a6ffbbfe72151ce8496",
     "grade": true,
     "grade_id": "cell-e24dfe7cf835d8ae",
     "locked": true,
     "points": 20,
     "schema_version": 3,
     "solution": false
    }
   },
   "outputs": [],
   "source": [
    "df_salaries = AddGenderToDF(df_salaries, male_names, female_names)\n",
    "[male_avg_salary, female_avg_salary] = ComputeAvgSalary(df_salaries)\n",
    "assert round(male_avg_salary, 2) == 97774.57\n",
    "assert round(female_avg_salary, 2) == 83172.18"
   ]
  },
  {
   "cell_type": "code",
   "execution_count": null,
   "metadata": {},
   "outputs": [],
   "source": [
    "#Write ChatGPT code here\n"
   ]
  }
 ],
 "metadata": {
  "kernelspec": {
   "display_name": "Python 3 (ipykernel)",
   "language": "python",
   "name": "python3"
  },
  "language_info": {
   "codemirror_mode": {
    "name": "ipython",
    "version": 3
   },
   "file_extension": ".py",
   "mimetype": "text/x-python",
   "name": "python",
   "nbconvert_exporter": "python",
   "pygments_lexer": "ipython3",
   "version": "3.11.5"
  },
  "toc": {
   "colors": {
    "hover_highlight": "#DAA520",
    "navigate_num": "#000000",
    "navigate_text": "#333333",
    "running_highlight": "#FF0000",
    "selected_highlight": "#FFD700",
    "sidebar_border": "#EEEEEE",
    "wrapper_background": "#FFFFFF"
   },
   "moveMenuLeft": true,
   "nav_menu": {
    "height": "30px",
    "width": "252px"
   },
   "navigate_menu": true,
   "number_sections": true,
   "sideBar": true,
   "skip_h1_title": false,
   "threshold": 4,
   "toc_cell": false,
   "toc_position": {},
   "toc_section_display": "block",
   "toc_window_display": false,
   "widenNotebook": false
  }
 },
 "nbformat": 4,
 "nbformat_minor": 2
}
