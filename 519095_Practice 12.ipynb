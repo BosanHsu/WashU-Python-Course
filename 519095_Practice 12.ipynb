{
 "cells": [
  {
   "cell_type": "markdown",
   "metadata": {},
   "source": [
    "# Practice with Merges."
   ]
  },
  {
   "cell_type": "markdown",
   "metadata": {
    "collapsed": true
   },
   "source": [
    "Run the cells below to create the following dataframes."
   ]
  },
  {
   "cell_type": "markdown",
   "metadata": {},
   "source": [
    "df_purchases contains information on various customer purchases."
   ]
  },
  {
   "cell_type": "code",
   "execution_count": 1,
   "metadata": {},
   "outputs": [
    {
     "name": "stdout",
     "output_type": "stream",
     "text": [
      "Collecting pandasql\n",
      "  Downloading pandasql-0.7.3.tar.gz (26 kB)\n",
      "  Preparing metadata (setup.py): started\n",
      "  Preparing metadata (setup.py): finished with status 'done'\n",
      "Requirement already satisfied: numpy in c:\\users\\hsupo\\anaconda3\\lib\\site-packages (from pandasql) (1.24.3)\n",
      "Requirement already satisfied: pandas in c:\\users\\hsupo\\anaconda3\\lib\\site-packages (from pandasql) (1.5.3)\n",
      "Requirement already satisfied: sqlalchemy in c:\\users\\hsupo\\anaconda3\\lib\\site-packages (from pandasql) (1.4.39)\n",
      "Requirement already satisfied: python-dateutil>=2.8.1 in c:\\users\\hsupo\\anaconda3\\lib\\site-packages (from pandas->pandasql) (2.8.2)\n",
      "Requirement already satisfied: pytz>=2020.1 in c:\\users\\hsupo\\anaconda3\\lib\\site-packages (from pandas->pandasql) (2022.7)\n",
      "Requirement already satisfied: greenlet!=0.4.17 in c:\\users\\hsupo\\anaconda3\\lib\\site-packages (from sqlalchemy->pandasql) (2.0.1)\n",
      "Requirement already satisfied: six>=1.5 in c:\\users\\hsupo\\anaconda3\\lib\\site-packages (from python-dateutil>=2.8.1->pandas->pandasql) (1.16.0)\n",
      "Building wheels for collected packages: pandasql\n",
      "  Building wheel for pandasql (setup.py): started\n",
      "  Building wheel for pandasql (setup.py): finished with status 'done'\n",
      "  Created wheel for pandasql: filename=pandasql-0.7.3-py3-none-any.whl size=26800 sha256=1b80ef260425d1500badd7f18a1cc19c43ef5956df1b102798e6d6a26a999658\n",
      "  Stored in directory: c:\\users\\hsupo\\appdata\\local\\pip\\cache\\wheels\\68\\5d\\a5\\edc271b998f909801d7956959f699b976cc9896075dc47c153\n",
      "Successfully built pandasql\n",
      "Installing collected packages: pandasql\n",
      "Successfully installed pandasql-0.7.3\n"
     ]
    }
   ],
   "source": [
    "!pip install pandasql"
   ]
  },
  {
   "cell_type": "code",
   "execution_count": 2,
   "metadata": {},
   "outputs": [
    {
     "data": {
      "text/html": [
       "<div>\n",
       "<style scoped>\n",
       "    .dataframe tbody tr th:only-of-type {\n",
       "        vertical-align: middle;\n",
       "    }\n",
       "\n",
       "    .dataframe tbody tr th {\n",
       "        vertical-align: top;\n",
       "    }\n",
       "\n",
       "    .dataframe thead th {\n",
       "        text-align: right;\n",
       "    }\n",
       "</style>\n",
       "<table border=\"1\" class=\"dataframe\">\n",
       "  <thead>\n",
       "    <tr style=\"text-align: right;\">\n",
       "      <th></th>\n",
       "      <th>Name</th>\n",
       "      <th>Item_Purchased</th>\n",
       "    </tr>\n",
       "  </thead>\n",
       "  <tbody>\n",
       "    <tr>\n",
       "      <th>0</th>\n",
       "      <td>Jake</td>\n",
       "      <td>Ball</td>\n",
       "    </tr>\n",
       "    <tr>\n",
       "      <th>1</th>\n",
       "      <td>Joe</td>\n",
       "      <td>Shirt</td>\n",
       "    </tr>\n",
       "    <tr>\n",
       "      <th>2</th>\n",
       "      <td>Ellen</td>\n",
       "      <td>Shoes</td>\n",
       "    </tr>\n",
       "    <tr>\n",
       "      <th>3</th>\n",
       "      <td>Joe</td>\n",
       "      <td>Ball</td>\n",
       "    </tr>\n",
       "    <tr>\n",
       "      <th>4</th>\n",
       "      <td>Ellen</td>\n",
       "      <td>Shirt</td>\n",
       "    </tr>\n",
       "  </tbody>\n",
       "</table>\n",
       "</div>"
      ],
      "text/plain": [
       "    Name Item_Purchased\n",
       "0   Jake           Ball\n",
       "1    Joe          Shirt\n",
       "2  Ellen          Shoes\n",
       "3    Joe           Ball\n",
       "4  Ellen          Shirt"
      ]
     },
     "execution_count": 2,
     "metadata": {},
     "output_type": "execute_result"
    }
   ],
   "source": [
    "import pandas as pd\n",
    "from pandasql import sqldf\n",
    "import matplotlib.pyplot as plt\n",
    "import numpy as np\n",
    "\n",
    "names = [\"Jake\", \"Joe\", \"Ellen\", \"Joe\", \"Ellen\"]\n",
    "item = [\"Ball\", \"Shirt\", \"Shoes\", \"Ball\", \"Shirt\"]\n",
    "\n",
    "df_purchases = pd.DataFrame({\"Name\": names, \"Item_Purchased\": item} )\n",
    "                    \n",
    "df_purchases"
   ]
  },
  {
   "cell_type": "markdown",
   "metadata": {},
   "source": [
    "df_items contains information on the prices of each item."
   ]
  },
  {
   "cell_type": "code",
   "execution_count": 3,
   "metadata": {},
   "outputs": [
    {
     "data": {
      "text/html": [
       "<div>\n",
       "<style scoped>\n",
       "    .dataframe tbody tr th:only-of-type {\n",
       "        vertical-align: middle;\n",
       "    }\n",
       "\n",
       "    .dataframe tbody tr th {\n",
       "        vertical-align: top;\n",
       "    }\n",
       "\n",
       "    .dataframe thead th {\n",
       "        text-align: right;\n",
       "    }\n",
       "</style>\n",
       "<table border=\"1\" class=\"dataframe\">\n",
       "  <thead>\n",
       "    <tr style=\"text-align: right;\">\n",
       "      <th></th>\n",
       "      <th>Item</th>\n",
       "      <th>Price</th>\n",
       "    </tr>\n",
       "  </thead>\n",
       "  <tbody>\n",
       "    <tr>\n",
       "      <th>0</th>\n",
       "      <td>Ball</td>\n",
       "      <td>10</td>\n",
       "    </tr>\n",
       "    <tr>\n",
       "      <th>1</th>\n",
       "      <td>Shirt</td>\n",
       "      <td>15</td>\n",
       "    </tr>\n",
       "    <tr>\n",
       "      <th>2</th>\n",
       "      <td>Shoes</td>\n",
       "      <td>75</td>\n",
       "    </tr>\n",
       "  </tbody>\n",
       "</table>\n",
       "</div>"
      ],
      "text/plain": [
       "    Item  Price\n",
       "0   Ball     10\n",
       "1  Shirt     15\n",
       "2  Shoes     75"
      ]
     },
     "execution_count": 3,
     "metadata": {},
     "output_type": "execute_result"
    }
   ],
   "source": [
    "item = [\"Ball\", \"Shirt\", \"Shoes\"]\n",
    "price = [10,15,75]\n",
    "\n",
    "df_items = pd.DataFrame({\"Item\": item, \"Price\":price})\n",
    "\n",
    "df_items"
   ]
  },
  {
   "cell_type": "markdown",
   "metadata": {},
   "source": [
    "df_customer contained information on the customers "
   ]
  },
  {
   "cell_type": "code",
   "execution_count": 4,
   "metadata": {},
   "outputs": [
    {
     "data": {
      "text/html": [
       "<div>\n",
       "<style scoped>\n",
       "    .dataframe tbody tr th:only-of-type {\n",
       "        vertical-align: middle;\n",
       "    }\n",
       "\n",
       "    .dataframe tbody tr th {\n",
       "        vertical-align: top;\n",
       "    }\n",
       "\n",
       "    .dataframe thead th {\n",
       "        text-align: right;\n",
       "    }\n",
       "</style>\n",
       "<table border=\"1\" class=\"dataframe\">\n",
       "  <thead>\n",
       "    <tr style=\"text-align: right;\">\n",
       "      <th></th>\n",
       "      <th>Allowance</th>\n",
       "      <th>Customers</th>\n",
       "    </tr>\n",
       "  </thead>\n",
       "  <tbody>\n",
       "    <tr>\n",
       "      <th>0</th>\n",
       "      <td>15</td>\n",
       "      <td>Jake</td>\n",
       "    </tr>\n",
       "    <tr>\n",
       "      <th>1</th>\n",
       "      <td>12</td>\n",
       "      <td>Joe</td>\n",
       "    </tr>\n",
       "    <tr>\n",
       "      <th>2</th>\n",
       "      <td>85</td>\n",
       "      <td>Ellen</td>\n",
       "    </tr>\n",
       "  </tbody>\n",
       "</table>\n",
       "</div>"
      ],
      "text/plain": [
       "   Allowance Customers\n",
       "0         15      Jake\n",
       "1         12       Joe\n",
       "2         85     Ellen"
      ]
     },
     "execution_count": 4,
     "metadata": {},
     "output_type": "execute_result"
    }
   ],
   "source": [
    "customers = [\"Jake\", \"Joe\", \"Ellen\"]\n",
    "allowance = [15, 12, 85]\n",
    "\n",
    "df_customers = pd.DataFrame({\"Allowance\":allowance, \"Customers\":customers})\n",
    "\n",
    "df_customers"
   ]
  },
  {
   "cell_type": "markdown",
   "metadata": {},
   "source": [
    "### Question: How many customers went over their allowance?"
   ]
  },
  {
   "cell_type": "markdown",
   "metadata": {},
   "source": [
    "Create df_1, which is df_purchases with an additional column that gives the price of each item"
   ]
  },
  {
   "cell_type": "code",
   "execution_count": 19,
   "metadata": {},
   "outputs": [
    {
     "data": {
      "text/html": [
       "<div>\n",
       "<style scoped>\n",
       "    .dataframe tbody tr th:only-of-type {\n",
       "        vertical-align: middle;\n",
       "    }\n",
       "\n",
       "    .dataframe tbody tr th {\n",
       "        vertical-align: top;\n",
       "    }\n",
       "\n",
       "    .dataframe thead th {\n",
       "        text-align: right;\n",
       "    }\n",
       "</style>\n",
       "<table border=\"1\" class=\"dataframe\">\n",
       "  <thead>\n",
       "    <tr style=\"text-align: right;\">\n",
       "      <th></th>\n",
       "      <th>Name</th>\n",
       "      <th>Item_Purchased</th>\n",
       "      <th>Item</th>\n",
       "      <th>Price</th>\n",
       "    </tr>\n",
       "  </thead>\n",
       "  <tbody>\n",
       "    <tr>\n",
       "      <th>0</th>\n",
       "      <td>Jake</td>\n",
       "      <td>Ball</td>\n",
       "      <td>Ball</td>\n",
       "      <td>10</td>\n",
       "    </tr>\n",
       "    <tr>\n",
       "      <th>1</th>\n",
       "      <td>Joe</td>\n",
       "      <td>Ball</td>\n",
       "      <td>Ball</td>\n",
       "      <td>10</td>\n",
       "    </tr>\n",
       "    <tr>\n",
       "      <th>2</th>\n",
       "      <td>Joe</td>\n",
       "      <td>Shirt</td>\n",
       "      <td>Shirt</td>\n",
       "      <td>15</td>\n",
       "    </tr>\n",
       "    <tr>\n",
       "      <th>3</th>\n",
       "      <td>Ellen</td>\n",
       "      <td>Shirt</td>\n",
       "      <td>Shirt</td>\n",
       "      <td>15</td>\n",
       "    </tr>\n",
       "    <tr>\n",
       "      <th>4</th>\n",
       "      <td>Ellen</td>\n",
       "      <td>Shoes</td>\n",
       "      <td>Shoes</td>\n",
       "      <td>75</td>\n",
       "    </tr>\n",
       "  </tbody>\n",
       "</table>\n",
       "</div>"
      ],
      "text/plain": [
       "    Name Item_Purchased   Item  Price\n",
       "0   Jake           Ball   Ball     10\n",
       "1    Joe           Ball   Ball     10\n",
       "2    Joe          Shirt  Shirt     15\n",
       "3  Ellen          Shirt  Shirt     15\n",
       "4  Ellen          Shoes  Shoes     75"
      ]
     },
     "execution_count": 19,
     "metadata": {},
     "output_type": "execute_result"
    }
   ],
   "source": [
    "df_1 = df_purchases.merge( df_items, how = \"inner\", left_on = \"Item_Purchased\", right_on =\"Item\")\n",
    "df_1"
   ]
  },
  {
   "cell_type": "markdown",
   "metadata": {},
   "source": [
    "Create df_2, which stores the total amount that each person spent."
   ]
  },
  {
   "cell_type": "code",
   "execution_count": 20,
   "metadata": {},
   "outputs": [
    {
     "data": {
      "text/html": [
       "<div>\n",
       "<style scoped>\n",
       "    .dataframe tbody tr th:only-of-type {\n",
       "        vertical-align: middle;\n",
       "    }\n",
       "\n",
       "    .dataframe tbody tr th {\n",
       "        vertical-align: top;\n",
       "    }\n",
       "\n",
       "    .dataframe thead th {\n",
       "        text-align: right;\n",
       "    }\n",
       "</style>\n",
       "<table border=\"1\" class=\"dataframe\">\n",
       "  <thead>\n",
       "    <tr style=\"text-align: right;\">\n",
       "      <th></th>\n",
       "      <th>Name</th>\n",
       "      <th>Price</th>\n",
       "    </tr>\n",
       "  </thead>\n",
       "  <tbody>\n",
       "    <tr>\n",
       "      <th>0</th>\n",
       "      <td>Ellen</td>\n",
       "      <td>90</td>\n",
       "    </tr>\n",
       "    <tr>\n",
       "      <th>1</th>\n",
       "      <td>Jake</td>\n",
       "      <td>10</td>\n",
       "    </tr>\n",
       "    <tr>\n",
       "      <th>2</th>\n",
       "      <td>Joe</td>\n",
       "      <td>25</td>\n",
       "    </tr>\n",
       "  </tbody>\n",
       "</table>\n",
       "</div>"
      ],
      "text/plain": [
       "    Name  Price\n",
       "0  Ellen     90\n",
       "1   Jake     10\n",
       "2    Joe     25"
      ]
     },
     "execution_count": 20,
     "metadata": {},
     "output_type": "execute_result"
    }
   ],
   "source": [
    "df_1_sub = df_1.loc[ :, [\"Name\", \"Price\"] ]\n",
    "df_2 = df_1_sub.groupby(\"Name\")['Price'].sum()\n",
    "df_2 = df_2.reset_index()\n",
    "df_2"
   ]
  },
  {
   "cell_type": "markdown",
   "metadata": {},
   "source": [
    "Created df_3, which adds each person't allowance to df_2"
   ]
  },
  {
   "cell_type": "code",
   "execution_count": 21,
   "metadata": {},
   "outputs": [
    {
     "data": {
      "text/html": [
       "<div>\n",
       "<style scoped>\n",
       "    .dataframe tbody tr th:only-of-type {\n",
       "        vertical-align: middle;\n",
       "    }\n",
       "\n",
       "    .dataframe tbody tr th {\n",
       "        vertical-align: top;\n",
       "    }\n",
       "\n",
       "    .dataframe thead th {\n",
       "        text-align: right;\n",
       "    }\n",
       "</style>\n",
       "<table border=\"1\" class=\"dataframe\">\n",
       "  <thead>\n",
       "    <tr style=\"text-align: right;\">\n",
       "      <th></th>\n",
       "      <th>Name</th>\n",
       "      <th>Price</th>\n",
       "      <th>Allowance</th>\n",
       "      <th>Customers</th>\n",
       "    </tr>\n",
       "  </thead>\n",
       "  <tbody>\n",
       "    <tr>\n",
       "      <th>0</th>\n",
       "      <td>Ellen</td>\n",
       "      <td>90</td>\n",
       "      <td>85</td>\n",
       "      <td>Ellen</td>\n",
       "    </tr>\n",
       "    <tr>\n",
       "      <th>1</th>\n",
       "      <td>Jake</td>\n",
       "      <td>10</td>\n",
       "      <td>15</td>\n",
       "      <td>Jake</td>\n",
       "    </tr>\n",
       "    <tr>\n",
       "      <th>2</th>\n",
       "      <td>Joe</td>\n",
       "      <td>25</td>\n",
       "      <td>12</td>\n",
       "      <td>Joe</td>\n",
       "    </tr>\n",
       "  </tbody>\n",
       "</table>\n",
       "</div>"
      ],
      "text/plain": [
       "    Name  Price  Allowance Customers\n",
       "0  Ellen     90         85     Ellen\n",
       "1   Jake     10         15      Jake\n",
       "2    Joe     25         12       Joe"
      ]
     },
     "execution_count": 21,
     "metadata": {},
     "output_type": "execute_result"
    }
   ],
   "source": [
    "df_3 = df_2.merge( df_customers, how = \"inner\", left_on = \"Name\", right_on =\"Customers\")\n",
    "df_3"
   ]
  },
  {
   "cell_type": "markdown",
   "metadata": {},
   "source": [
    "Add a column to df_3 which tells whether or not they went over their allowance or not."
   ]
  },
  {
   "cell_type": "code",
   "execution_count": 23,
   "metadata": {},
   "outputs": [
    {
     "data": {
      "text/html": [
       "<div>\n",
       "<style scoped>\n",
       "    .dataframe tbody tr th:only-of-type {\n",
       "        vertical-align: middle;\n",
       "    }\n",
       "\n",
       "    .dataframe tbody tr th {\n",
       "        vertical-align: top;\n",
       "    }\n",
       "\n",
       "    .dataframe thead th {\n",
       "        text-align: right;\n",
       "    }\n",
       "</style>\n",
       "<table border=\"1\" class=\"dataframe\">\n",
       "  <thead>\n",
       "    <tr style=\"text-align: right;\">\n",
       "      <th></th>\n",
       "      <th>Name</th>\n",
       "      <th>Price</th>\n",
       "      <th>Allowance</th>\n",
       "      <th>Customers</th>\n",
       "      <th>Over_Allowance</th>\n",
       "    </tr>\n",
       "  </thead>\n",
       "  <tbody>\n",
       "    <tr>\n",
       "      <th>0</th>\n",
       "      <td>Ellen</td>\n",
       "      <td>90</td>\n",
       "      <td>85</td>\n",
       "      <td>Ellen</td>\n",
       "      <td>True</td>\n",
       "    </tr>\n",
       "    <tr>\n",
       "      <th>1</th>\n",
       "      <td>Jake</td>\n",
       "      <td>10</td>\n",
       "      <td>15</td>\n",
       "      <td>Jake</td>\n",
       "      <td>False</td>\n",
       "    </tr>\n",
       "    <tr>\n",
       "      <th>2</th>\n",
       "      <td>Joe</td>\n",
       "      <td>25</td>\n",
       "      <td>12</td>\n",
       "      <td>Joe</td>\n",
       "      <td>True</td>\n",
       "    </tr>\n",
       "  </tbody>\n",
       "</table>\n",
       "</div>"
      ],
      "text/plain": [
       "    Name  Price  Allowance Customers  Over_Allowance\n",
       "0  Ellen     90         85     Ellen            True\n",
       "1   Jake     10         15      Jake           False\n",
       "2    Joe     25         12       Joe            True"
      ]
     },
     "execution_count": 23,
     "metadata": {},
     "output_type": "execute_result"
    }
   ],
   "source": [
    "df_3[\"Over_Allowance\"] = df_3[\"Allowance\"] - df_3[\"Price\"] < 0\n",
    "df_3"
   ]
  },
  {
   "cell_type": "markdown",
   "metadata": {},
   "source": [
    "Compute how many people went over."
   ]
  },
  {
   "cell_type": "code",
   "execution_count": 30,
   "metadata": {},
   "outputs": [
    {
     "data": {
      "text/plain": [
       "2"
      ]
     },
     "execution_count": 30,
     "metadata": {},
     "output_type": "execute_result"
    }
   ],
   "source": [
    "sum(df_3[\"Over_Allowance\"])"
   ]
  },
  {
   "cell_type": "code",
   "execution_count": 31,
   "metadata": {},
   "outputs": [],
   "source": [
    "# Put Your ChatGPt codes here\n"
   ]
  },
  {
   "cell_type": "markdown",
   "metadata": {},
   "source": [
    "# Running Back Analysis Tool\n",
    "\n",
    "The goal in this practice is to analyze the number of rushing yards gained by an inputted running back over the various weeks that the data contains.  We also would like to incorporate whether the given running back went up against good defenses.  To do so, we will compute the average rushing yards given up by each of the given running back's opponents throughout the weeks.\n"
   ]
  },
  {
   "cell_type": "code",
   "execution_count": 5,
   "metadata": {},
   "outputs": [],
   "source": [
    "#Place your imports here\n",
    "import pandas as pd\n",
    "import matplotlib.pyplot as plt"
   ]
  },
  {
   "cell_type": "markdown",
   "metadata": {},
   "source": [
    "  Read in the data from the following 4 csv files: nflgames.csv, nflteams.csv, nflplayers.csv, rushingstats.csv. Filter the rushing stats so it only corresponds to running backs (PositionID = 2)"
   ]
  },
  {
   "cell_type": "code",
   "execution_count": 63,
   "metadata": {
    "scrolled": true
   },
   "outputs": [
    {
     "name": "stdout",
     "output_type": "stream",
     "text": [
      "   GameID  Week  HomeTeamID  AwayTeamID  HomeScore  AwayScore DayOfWeek  \\\n",
      "0       1     1           1          29         16         23       Sun   \n",
      "1       2     2           1          28         26          6       Thu   \n",
      "2       3     3          27           1         21         23       Sun   \n",
      "\n",
      "  TimeOfDay  FieldType  Temp  Wind  \n",
      "0       Day  sportturf    74     8  \n",
      "1     Night  sportturf    82     6  \n",
      "2       Day     grass     71    23  \n",
      "   TeamID          TeamName TeamCapsAbrv TeamAbrv\n",
      "0       1  Baltimore Ravens          RAV      rav\n",
      "1       2    Denver Broncos          DEN      den\n",
      "2       3   Oakland Raiders          RAI      rai\n",
      "   PlayerID     PlayerName  PositionID  TeamID\n",
      "0         1    Kamar Aiken           3       1\n",
      "1         2   Marlon Brown           3       1\n",
      "2         3  Jeremy Butler           3       1\n",
      "    RushingStatsID  PlayerID  PositionID  TeamID  GameID  Att  Yds  Lng  TD  \\\n",
      "10              11         7           2       1       1   11   70   13   1   \n",
      "11              12         7           2       1       2    8   56   41   0   \n",
      "12              13         7           2       1       3   11   63   22   0   \n",
      "\n",
      "    RunShort  RunFive  RunFifteen  RunThirtyPlus  RZInsideTwenty  RZInsideTen  \\\n",
      "10         5        7           0              0               1            0   \n",
      "11         6        1           0              1               0            0   \n",
      "12         5        4           2              0               2            0   \n",
      "\n",
      "    RZInsideFive  RZTD  RZTotal  \n",
      "10             0     1        1  \n",
      "11             2     0        2  \n",
      "12             0     0        2  \n"
     ]
    }
   ],
   "source": [
    "#read in the data below\n",
    "games = pd.read_csv(\"Data/Football_Data/nflgames.csv\")\n",
    "teams = pd.read_csv(\"Data/Football_Data/nflteams.csv\")\n",
    "nflPlayers = pd.read_csv(\"Data/Football_Data/nflplayers.csv\")\n",
    "rushingStats=pd.read_csv(\"Data/Football_Data/rushingstats.csv\")\n",
    "\n",
    "rushingStats = rushingStats.loc[rushingStats[\"PositionID\"] == 2, :]\n",
    "\n",
    "\n",
    "print(games.head(3))\n",
    "print(teams.head(3))\n",
    "print(nflPlayers.head(3))\n",
    "print(rushingStats.head(3))"
   ]
  },
  {
   "cell_type": "markdown",
   "metadata": {},
   "source": [
    "Enter the name of the running back you would like to analyze and then find the player's player ID and Team ID."
   ]
  },
  {
   "cell_type": "code",
   "execution_count": 54,
   "metadata": {},
   "outputs": [
    {
     "data": {
      "text/html": [
       "<div>\n",
       "<style scoped>\n",
       "    .dataframe tbody tr th:only-of-type {\n",
       "        vertical-align: middle;\n",
       "    }\n",
       "\n",
       "    .dataframe tbody tr th {\n",
       "        vertical-align: top;\n",
       "    }\n",
       "\n",
       "    .dataframe thead th {\n",
       "        text-align: right;\n",
       "    }\n",
       "</style>\n",
       "<table border=\"1\" class=\"dataframe\">\n",
       "  <thead>\n",
       "    <tr style=\"text-align: right;\">\n",
       "      <th></th>\n",
       "      <th>PlayerID</th>\n",
       "      <th>TeamID</th>\n",
       "    </tr>\n",
       "  </thead>\n",
       "  <tbody>\n",
       "    <tr>\n",
       "      <th>520</th>\n",
       "      <td>521</td>\n",
       "      <td>28</td>\n",
       "    </tr>\n",
       "  </tbody>\n",
       "</table>\n",
       "</div>"
      ],
      "text/plain": [
       "     PlayerID  TeamID\n",
       "520       521      28"
      ]
     },
     "execution_count": 54,
     "metadata": {},
     "output_type": "execute_result"
    }
   ],
   "source": [
    "#Write your code here\n",
    "name = \"LeVeon Bell\"\n",
    "playerINFO = nflPlayers.groupby(\"PlayerID\").filter( lambda x: x[\"PlayerName\"] == name ).loc[:,[\"PlayerID\",\"TeamID\"]]\n",
    "playerINFO"
   ]
  },
  {
   "cell_type": "markdown",
   "metadata": {},
   "source": [
    "Next select the rushing stats corresponding to this player and merge this df with the games df to find the week. In this merged df select the following columns: TeamID, GameID, Yds, Week, HomeTeamID, AwayTeamID. Sort the resulting df by Week."
   ]
  },
  {
   "cell_type": "code",
   "execution_count": 66,
   "metadata": {
    "scrolled": true
   },
   "outputs": [
    {
     "data": {
      "text/html": [
       "<div>\n",
       "<style scoped>\n",
       "    .dataframe tbody tr th:only-of-type {\n",
       "        vertical-align: middle;\n",
       "    }\n",
       "\n",
       "    .dataframe tbody tr th {\n",
       "        vertical-align: top;\n",
       "    }\n",
       "\n",
       "    .dataframe thead th {\n",
       "        text-align: right;\n",
       "    }\n",
       "</style>\n",
       "<table border=\"1\" class=\"dataframe\">\n",
       "  <thead>\n",
       "    <tr style=\"text-align: right;\">\n",
       "      <th></th>\n",
       "      <th>PlayerID</th>\n",
       "      <th>TeamID_x</th>\n",
       "      <th>GameID</th>\n",
       "      <th>Yds</th>\n",
       "      <th>Week</th>\n",
       "      <th>HomeTeamID</th>\n",
       "      <th>AwayTeamID</th>\n",
       "      <th>TeamID_y</th>\n",
       "    </tr>\n",
       "  </thead>\n",
       "  <tbody>\n",
       "    <tr>\n",
       "      <th>0</th>\n",
       "      <td>521</td>\n",
       "      <td>28</td>\n",
       "      <td>186</td>\n",
       "      <td>109</td>\n",
       "      <td>1</td>\n",
       "      <td>28</td>\n",
       "      <td>27</td>\n",
       "      <td>28</td>\n",
       "    </tr>\n",
       "    <tr>\n",
       "      <th>1</th>\n",
       "      <td>521</td>\n",
       "      <td>28</td>\n",
       "      <td>2</td>\n",
       "      <td>59</td>\n",
       "      <td>2</td>\n",
       "      <td>1</td>\n",
       "      <td>28</td>\n",
       "      <td>28</td>\n",
       "    </tr>\n",
       "    <tr>\n",
       "      <th>2</th>\n",
       "      <td>521</td>\n",
       "      <td>28</td>\n",
       "      <td>124</td>\n",
       "      <td>147</td>\n",
       "      <td>3</td>\n",
       "      <td>15</td>\n",
       "      <td>28</td>\n",
       "      <td>28</td>\n",
       "    </tr>\n",
       "    <tr>\n",
       "      <th>3</th>\n",
       "      <td>521</td>\n",
       "      <td>28</td>\n",
       "      <td>146</td>\n",
       "      <td>63</td>\n",
       "      <td>4</td>\n",
       "      <td>28</td>\n",
       "      <td>19</td>\n",
       "      <td>28</td>\n",
       "    </tr>\n",
       "    <tr>\n",
       "      <th>4</th>\n",
       "      <td>521</td>\n",
       "      <td>28</td>\n",
       "      <td>62</td>\n",
       "      <td>82</td>\n",
       "      <td>5</td>\n",
       "      <td>6</td>\n",
       "      <td>28</td>\n",
       "      <td>28</td>\n",
       "    </tr>\n",
       "    <tr>\n",
       "      <th>5</th>\n",
       "      <td>521</td>\n",
       "      <td>28</td>\n",
       "      <td>187</td>\n",
       "      <td>82</td>\n",
       "      <td>6</td>\n",
       "      <td>27</td>\n",
       "      <td>28</td>\n",
       "      <td>28</td>\n",
       "    </tr>\n",
       "    <tr>\n",
       "      <th>6</th>\n",
       "      <td>521</td>\n",
       "      <td>28</td>\n",
       "      <td>114</td>\n",
       "      <td>57</td>\n",
       "      <td>7</td>\n",
       "      <td>28</td>\n",
       "      <td>13</td>\n",
       "      <td>28</td>\n",
       "    </tr>\n",
       "    <tr>\n",
       "      <th>7</th>\n",
       "      <td>521</td>\n",
       "      <td>28</td>\n",
       "      <td>72</td>\n",
       "      <td>92</td>\n",
       "      <td>8</td>\n",
       "      <td>28</td>\n",
       "      <td>7</td>\n",
       "      <td>28</td>\n",
       "    </tr>\n",
       "    <tr>\n",
       "      <th>8</th>\n",
       "      <td>521</td>\n",
       "      <td>28</td>\n",
       "      <td>9</td>\n",
       "      <td>20</td>\n",
       "      <td>9</td>\n",
       "      <td>28</td>\n",
       "      <td>1</td>\n",
       "      <td>28</td>\n",
       "    </tr>\n",
       "    <tr>\n",
       "      <th>9</th>\n",
       "      <td>521</td>\n",
       "      <td>28</td>\n",
       "      <td>185</td>\n",
       "      <td>36</td>\n",
       "      <td>10</td>\n",
       "      <td>26</td>\n",
       "      <td>28</td>\n",
       "      <td>28</td>\n",
       "    </tr>\n",
       "    <tr>\n",
       "      <th>10</th>\n",
       "      <td>521</td>\n",
       "      <td>28</td>\n",
       "      <td>110</td>\n",
       "      <td>204</td>\n",
       "      <td>11</td>\n",
       "      <td>12</td>\n",
       "      <td>28</td>\n",
       "      <td>28</td>\n",
       "    </tr>\n",
       "    <tr>\n",
       "      <th>11</th>\n",
       "      <td>521</td>\n",
       "      <td>28</td>\n",
       "      <td>169</td>\n",
       "      <td>95</td>\n",
       "      <td>13</td>\n",
       "      <td>28</td>\n",
       "      <td>22</td>\n",
       "      <td>28</td>\n",
       "    </tr>\n",
       "  </tbody>\n",
       "</table>\n",
       "</div>"
      ],
      "text/plain": [
       "    PlayerID  TeamID_x  GameID  Yds  Week  HomeTeamID  AwayTeamID  TeamID_y\n",
       "0        521        28     186  109     1          28          27        28\n",
       "1        521        28       2   59     2           1          28        28\n",
       "2        521        28     124  147     3          15          28        28\n",
       "3        521        28     146   63     4          28          19        28\n",
       "4        521        28      62   82     5           6          28        28\n",
       "5        521        28     187   82     6          27          28        28\n",
       "6        521        28     114   57     7          28          13        28\n",
       "7        521        28      72   92     8          28           7        28\n",
       "8        521        28       9   20     9          28           1        28\n",
       "9        521        28     185   36    10          26          28        28\n",
       "10       521        28     110  204    11          12          28        28\n",
       "11       521        28     169   95    13          28          22        28"
      ]
     },
     "execution_count": 66,
     "metadata": {},
     "output_type": "execute_result"
    }
   ],
   "source": [
    "#Write your code here\n",
    "#game merge with rushingStats\n",
    "g_r = games.merge( rushingStats, how = \"inner\", on = \"GameID\" ).loc[ :, [\"PlayerID\", \"TeamID\",\"GameID\", \"Yds\", \"Week\", \"HomeTeamID\", \"AwayTeamID\"] ]\n",
    "g_r = g_r.sort_values(by=\"Week\")\n",
    "g_r\n",
    "\n",
    "#player X g_r\n",
    "playerStat = g_r.merge( playerINFO, how = \"inner\", on = \"PlayerID\" )\n",
    "playerStat"
   ]
  },
  {
   "cell_type": "markdown",
   "metadata": {},
   "source": [
    "Create a line chart showing the rushing yards per game for this player."
   ]
  },
  {
   "cell_type": "code",
   "execution_count": 69,
   "metadata": {},
   "outputs": [
    {
     "data": {
      "text/plain": [
       "[Text(0.5, 1.0, 'Rushing Yards by Week for LeVeon Bell'),\n",
       " Text(0.5, 0, 'Week'),\n",
       " Text(0, 0.5, 'Rusing Yards')]"
      ]
     },
     "execution_count": 69,
     "metadata": {},
     "output_type": "execute_result"
    },
    {
     "data": {
      "image/png": "[encoded data removed]",
      "text/plain": [
       "<Figure size 700x700 with 1 Axes>"
      ]
     },
     "metadata": {},
     "output_type": "display_data"
    }
   ],
   "source": [
    "%matplotlib inline\n",
    "\n",
    "fig, ax = plt.subplots( figsize = [7,7] )\n",
    "playerStat.plot( kind = \"line\", x = \"Week\", y = \"Yds\", ax = ax)\n",
    "ax.set( title = \"Rushing Yards by Week for %s\" %name, xlabel = \"Week\", ylabel = \"Rusing Yards\")"
   ]
  },
  {
   "cell_type": "code",
   "execution_count": null,
   "metadata": {},
   "outputs": [],
   "source": [
    "#Put Your ChatGPT codes here\n",
    "\n",
    "\n"
   ]
  }
 ],
 "metadata": {
  "kernelspec": {
   "display_name": "Python 3 (ipykernel)",
   "language": "python",
   "name": "python3"
  },
  "language_info": {
   "codemirror_mode": {
    "name": "ipython",
    "version": 3
   },
   "file_extension": ".py",
   "mimetype": "text/x-python",
   "name": "python",
   "nbconvert_exporter": "python",
   "pygments_lexer": "ipython3",
   "version": "3.11.5"
  },
  "toc": {
   "nav_menu": {
    "height": "48px",
    "width": "252px"
   },
   "number_sections": true,
   "sideBar": true,
   "skip_h1_title": false,
   "toc_cell": false,
   "toc_position": {},
   "toc_section_display": "block",
   "toc_window_display": false
  }
 },
 "nbformat": 4,
 "nbformat_minor": 2
}
