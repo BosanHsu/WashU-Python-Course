{
 "cells": [
  {
   "cell_type": "markdown",
   "metadata": {},
   "source": [
    "# Practice with Filtering\n",
    "\n",
    "Read in the file \"College_Salary_Data.csv\" and answer the following questions"
   ]
  },
  {
   "cell_type": "code",
   "execution_count": 1,
   "metadata": {},
   "outputs": [
    {
     "data": {
      "text/html": [
       "<div>\n",
       "<style scoped>\n",
       "    .dataframe tbody tr th:only-of-type {\n",
       "        vertical-align: middle;\n",
       "    }\n",
       "\n",
       "    .dataframe tbody tr th {\n",
       "        vertical-align: top;\n",
       "    }\n",
       "\n",
       "    .dataframe thead th {\n",
       "        text-align: right;\n",
       "    }\n",
       "</style>\n",
       "<table border=\"1\" class=\"dataframe\">\n",
       "  <thead>\n",
       "    <tr style=\"text-align: right;\">\n",
       "      <th></th>\n",
       "      <th>Unnamed: 0</th>\n",
       "      <th>School Name</th>\n",
       "      <th>School Type</th>\n",
       "      <th>Starting Median Salary</th>\n",
       "      <th>Mid-Career Median Salary</th>\n",
       "      <th>Mid-Career 10th Percentile Salary</th>\n",
       "      <th>Mid-Career 25th Percentile Salary</th>\n",
       "      <th>Mid-Career 75th Percentile Salary</th>\n",
       "      <th>Mid-Career 90th Percentile Salary</th>\n",
       "      <th>Region</th>\n",
       "    </tr>\n",
       "  </thead>\n",
       "  <tbody>\n",
       "    <tr>\n",
       "      <th>0</th>\n",
       "      <td>0</td>\n",
       "      <td>Massachusetts Institute of Technology (MIT)</td>\n",
       "      <td>Engineering</td>\n",
       "      <td>72200.0</td>\n",
       "      <td>126000.0</td>\n",
       "      <td>76800.0</td>\n",
       "      <td>99200.0</td>\n",
       "      <td>168000.0</td>\n",
       "      <td>220000.0</td>\n",
       "      <td>Northeastern</td>\n",
       "    </tr>\n",
       "    <tr>\n",
       "      <th>1</th>\n",
       "      <td>1</td>\n",
       "      <td>California Institute of Technology (CIT)</td>\n",
       "      <td>Engineering</td>\n",
       "      <td>75500.0</td>\n",
       "      <td>123000.0</td>\n",
       "      <td>NaN</td>\n",
       "      <td>104000.0</td>\n",
       "      <td>161000.0</td>\n",
       "      <td>NaN</td>\n",
       "      <td>California</td>\n",
       "    </tr>\n",
       "    <tr>\n",
       "      <th>2</th>\n",
       "      <td>2</td>\n",
       "      <td>Harvey Mudd College</td>\n",
       "      <td>Engineering</td>\n",
       "      <td>71800.0</td>\n",
       "      <td>122000.0</td>\n",
       "      <td>NaN</td>\n",
       "      <td>96000.0</td>\n",
       "      <td>180000.0</td>\n",
       "      <td>NaN</td>\n",
       "      <td>California</td>\n",
       "    </tr>\n",
       "    <tr>\n",
       "      <th>3</th>\n",
       "      <td>3</td>\n",
       "      <td>Polytechnic University of New York, Brooklyn</td>\n",
       "      <td>Engineering</td>\n",
       "      <td>62400.0</td>\n",
       "      <td>114000.0</td>\n",
       "      <td>66800.0</td>\n",
       "      <td>94300.0</td>\n",
       "      <td>143000.0</td>\n",
       "      <td>190000.0</td>\n",
       "      <td>Northeastern</td>\n",
       "    </tr>\n",
       "    <tr>\n",
       "      <th>4</th>\n",
       "      <td>4</td>\n",
       "      <td>Cooper Union</td>\n",
       "      <td>Engineering</td>\n",
       "      <td>62200.0</td>\n",
       "      <td>114000.0</td>\n",
       "      <td>NaN</td>\n",
       "      <td>80200.0</td>\n",
       "      <td>142000.0</td>\n",
       "      <td>NaN</td>\n",
       "      <td>Northeastern</td>\n",
       "    </tr>\n",
       "  </tbody>\n",
       "</table>\n",
       "</div>"
      ],
      "text/plain": [
       "   Unnamed: 0                                   School Name  School Type  \\\n",
       "0           0   Massachusetts Institute of Technology (MIT)  Engineering   \n",
       "1           1      California Institute of Technology (CIT)  Engineering   \n",
       "2           2                           Harvey Mudd College  Engineering   \n",
       "3           3  Polytechnic University of New York, Brooklyn  Engineering   \n",
       "4           4                                  Cooper Union  Engineering   \n",
       "\n",
       "   Starting Median Salary  Mid-Career Median Salary  \\\n",
       "0                 72200.0                  126000.0   \n",
       "1                 75500.0                  123000.0   \n",
       "2                 71800.0                  122000.0   \n",
       "3                 62400.0                  114000.0   \n",
       "4                 62200.0                  114000.0   \n",
       "\n",
       "   Mid-Career 10th Percentile Salary  Mid-Career 25th Percentile Salary  \\\n",
       "0                            76800.0                            99200.0   \n",
       "1                                NaN                           104000.0   \n",
       "2                                NaN                            96000.0   \n",
       "3                            66800.0                            94300.0   \n",
       "4                                NaN                            80200.0   \n",
       "\n",
       "   Mid-Career 75th Percentile Salary  Mid-Career 90th Percentile Salary  \\\n",
       "0                           168000.0                           220000.0   \n",
       "1                           161000.0                                NaN   \n",
       "2                           180000.0                                NaN   \n",
       "3                           143000.0                           190000.0   \n",
       "4                           142000.0                                NaN   \n",
       "\n",
       "         Region  \n",
       "0  Northeastern  \n",
       "1    California  \n",
       "2    California  \n",
       "3  Northeastern  \n",
       "4  Northeastern  "
      ]
     },
     "execution_count": 1,
     "metadata": {},
     "output_type": "execute_result"
    }
   ],
   "source": [
    "#Read in the data\n",
    "import pandas as pd\n",
    "\n",
    "df = pd.read_csv(\"data\\College_Salary_Data.csv\")\n",
    "df.head()"
   ]
  },
  {
   "cell_type": "markdown",
   "metadata": {},
   "source": [
    "How many school-dept pairs have a starting salary greater than 65K?"
   ]
  },
  {
   "cell_type": "code",
   "execution_count": 7,
   "metadata": {},
   "outputs": [
    {
     "data": {
      "text/plain": [
       "4"
      ]
     },
     "execution_count": 7,
     "metadata": {},
     "output_type": "execute_result"
    }
   ],
   "source": [
    "#Write you code here\n",
    "df.loc[df[\"Starting Median Salary\"] >= 65000, ].shape[0]"
   ]
  },
  {
   "cell_type": "markdown",
   "metadata": {},
   "source": [
    "What is the median mid career 75th percentile salary of party schools in a Southern or Western region? "
   ]
  },
  {
   "cell_type": "code",
   "execution_count": 16,
   "metadata": {},
   "outputs": [
    {
     "data": {
      "text/plain": [
       "117500.0"
      ]
     },
     "execution_count": 16,
     "metadata": {},
     "output_type": "execute_result"
    }
   ],
   "source": [
    "#Write your code here\n",
    "df_party_sw = df.loc[ (df[\"School Type\"] == \"Party\") & (df[\"Region\"].isin([\"Southern\", \"Western\"])), : ]\n",
    "df_party_sw[\"Mid-Career 75th Percentile Salary\"].median()"
   ]
  },
  {
   "cell_type": "markdown",
   "metadata": {},
   "source": [
    "What fraction of California schools have a starting median starting salary above 50K?"
   ]
  },
  {
   "cell_type": "code",
   "execution_count": 18,
   "metadata": {},
   "outputs": [
    {
     "data": {
      "text/plain": [
       "0.4074074074074074"
      ]
     },
     "execution_count": 18,
     "metadata": {},
     "output_type": "execute_result"
    }
   ],
   "source": [
    "#Write your code here\n",
    "df_party_cali = df.loc[ (df[\"Region\"] == \"California\"), : ]\n",
    "\n",
    "df_party_cali_50 = df.loc[ (df[\"Region\"] == \"California\") & (df[\"Starting Median Salary\"] >= 50000), : ]\n",
    "\n",
    "fraction = len(df_party_cali_50)/len(df_party_cali)\n",
    "fraction"
   ]
  },
  {
   "cell_type": "code",
   "execution_count": null,
   "metadata": {},
   "outputs": [],
   "source": [
    "#Put all ChatGPT codes here\n",
    "\n"
   ]
  },
  {
   "cell_type": "markdown",
   "metadata": {},
   "source": [
    "# Practice with Lambda Functions"
   ]
  },
  {
   "cell_type": "markdown",
   "metadata": {
    "collapsed": true
   },
   "source": [
    "Cconvert the following simple functions to lambda functions."
   ]
  },
  {
   "cell_type": "code",
   "execution_count": 19,
   "metadata": {},
   "outputs": [
    {
     "data": {
      "text/plain": [
       "'e'"
      ]
     },
     "execution_count": 19,
     "metadata": {},
     "output_type": "execute_result"
    }
   ],
   "source": [
    "def Get_First_Letter(name):\n",
    "    \"\"\"Take a name as input return the lowercase\n",
    "    first letter of the name\"\"\"\n",
    "    if name[0] == \"J\":\n",
    "        first_letter = name[0].lower()\n",
    "        return first_letter\n",
    "    else:\n",
    "        last_letter = name[-1]\n",
    "        return last_letter\n",
    "    \n",
    "\n",
    "Get_First_Letter(\"Steve\")"
   ]
  },
  {
   "cell_type": "code",
   "execution_count": 22,
   "metadata": {},
   "outputs": [
    {
     "data": {
      "text/plain": [
       "'e'"
      ]
     },
     "execution_count": 22,
     "metadata": {},
     "output_type": "execute_result"
    }
   ],
   "source": [
    "#Define your lambda function here\n",
    "Get_First_Letter = lambda name: name[0].lower() if name[0] == \"J\" else name[-1]\n",
    "Get_First_Letter(\"Steve\")\n",
    "\n",
    "#the question is different from the one the professor shared on the course"
   ]
  },
  {
   "cell_type": "code",
   "execution_count": 23,
   "metadata": {},
   "outputs": [
    {
     "data": {
      "text/plain": [
       "False"
      ]
     },
     "execution_count": 23,
     "metadata": {},
     "output_type": "execute_result"
    }
   ],
   "source": [
    "def Check_Even(x):\n",
    "    \"\"\"Return True if x is even and odd otherwise \"\"\"\n",
    "    \n",
    "    return x%2 == 0\n",
    "\n",
    "Check_Even(5)"
   ]
  },
  {
   "cell_type": "code",
   "execution_count": 24,
   "metadata": {},
   "outputs": [
    {
     "data": {
      "text/plain": [
       "False"
      ]
     },
     "execution_count": 24,
     "metadata": {},
     "output_type": "execute_result"
    }
   ],
   "source": [
    "#Define your lambda function here\n",
    "Check_Even = lambda x : x%2==0\n",
    "Check_Even(5)"
   ]
  },
  {
   "cell_type": "code",
   "execution_count": 25,
   "metadata": {},
   "outputs": [
    {
     "data": {
      "text/plain": [
       "152"
      ]
     },
     "execution_count": 25,
     "metadata": {},
     "output_type": "execute_result"
    }
   ],
   "source": [
    "def Get_Num(L):\n",
    "    \"\"\"Return the integer version of the number\n",
    "    specified by the list if strings in L\"\"\"\n",
    "    \n",
    "    return int(\"\".join(L))\n",
    "\n",
    "Get_Num([\"1\",\"5\",\"2\"])"
   ]
  },
  {
   "cell_type": "code",
   "execution_count": 26,
   "metadata": {},
   "outputs": [
    {
     "data": {
      "text/plain": [
       "152"
      ]
     },
     "execution_count": 26,
     "metadata": {},
     "output_type": "execute_result"
    }
   ],
   "source": [
    "#Define your lambda function here\n",
    "Get_Num = lambda L: int(\"\".join(L))\n",
    "Get_Num([\"1\",\"5\",\"2\"])"
   ]
  },
  {
   "cell_type": "code",
   "execution_count": null,
   "metadata": {},
   "outputs": [],
   "source": [
    "#Put all ChatGPT codes here\n",
    "\n"
   ]
  },
  {
   "cell_type": "markdown",
   "metadata": {},
   "source": [
    "# Filtering 2 Practice - Groupby\n",
    "\n",
    "In this practice exercise, we will analyze a yelp dataset. Import pandas and numpy below and read in the data set \"Yelp.csv. Then get rid of all rows with NaN."
   ]
  },
  {
   "cell_type": "code",
   "execution_count": 50,
   "metadata": {
    "scrolled": true
   },
   "outputs": [
    {
     "data": {
      "text/html": [
       "<div>\n",
       "<style scoped>\n",
       "    .dataframe tbody tr th:only-of-type {\n",
       "        vertical-align: middle;\n",
       "    }\n",
       "\n",
       "    .dataframe tbody tr th {\n",
       "        vertical-align: top;\n",
       "    }\n",
       "\n",
       "    .dataframe thead th {\n",
       "        text-align: right;\n",
       "    }\n",
       "</style>\n",
       "<table border=\"1\" class=\"dataframe\">\n",
       "  <thead>\n",
       "    <tr style=\"text-align: right;\">\n",
       "      <th></th>\n",
       "      <th>business_id</th>\n",
       "      <th>city</th>\n",
       "      <th>full_address</th>\n",
       "      <th>latitude</th>\n",
       "      <th>longitude</th>\n",
       "      <th>name</th>\n",
       "      <th>review_count</th>\n",
       "      <th>stars</th>\n",
       "      <th>state</th>\n",
       "      <th>type</th>\n",
       "      <th>...</th>\n",
       "      <th>Pakistani</th>\n",
       "      <th>Barbeque</th>\n",
       "      <th>Vietnamese</th>\n",
       "      <th>Asian Fusion</th>\n",
       "      <th>Diners</th>\n",
       "      <th>Greek</th>\n",
       "      <th>Vegetarian</th>\n",
       "      <th>Number_of_Checkins</th>\n",
       "      <th>Number_of_Tips</th>\n",
       "      <th>Number_of_Tip_Likes</th>\n",
       "    </tr>\n",
       "  </thead>\n",
       "  <tbody>\n",
       "    <tr>\n",
       "      <th>0</th>\n",
       "      <td>5UmKMjUEUNdYWqANhGckJw</td>\n",
       "      <td>Dravosburg</td>\n",
       "      <td>4734 Lebanon Church Rd Dravosburg, PA 15034</td>\n",
       "      <td>40.354327</td>\n",
       "      <td>-79.900706</td>\n",
       "      <td>Mr Hoagie</td>\n",
       "      <td>4</td>\n",
       "      <td>4.5</td>\n",
       "      <td>PA</td>\n",
       "      <td>business</td>\n",
       "      <td>...</td>\n",
       "      <td>0</td>\n",
       "      <td>0</td>\n",
       "      <td>0</td>\n",
       "      <td>0</td>\n",
       "      <td>0</td>\n",
       "      <td>0</td>\n",
       "      <td>0</td>\n",
       "      <td>0</td>\n",
       "      <td>0</td>\n",
       "      <td>0</td>\n",
       "    </tr>\n",
       "    <tr>\n",
       "      <th>1</th>\n",
       "      <td>UsFtqoBl7naz8AVUBZMjQQ</td>\n",
       "      <td>Dravosburg</td>\n",
       "      <td>202 McClure St Dravosburg, PA 15034</td>\n",
       "      <td>40.350553</td>\n",
       "      <td>-79.886814</td>\n",
       "      <td>Clancy's Pub</td>\n",
       "      <td>4</td>\n",
       "      <td>3.5</td>\n",
       "      <td>PA</td>\n",
       "      <td>business</td>\n",
       "      <td>...</td>\n",
       "      <td>0</td>\n",
       "      <td>0</td>\n",
       "      <td>0</td>\n",
       "      <td>0</td>\n",
       "      <td>0</td>\n",
       "      <td>0</td>\n",
       "      <td>0</td>\n",
       "      <td>0</td>\n",
       "      <td>0</td>\n",
       "      <td>0</td>\n",
       "    </tr>\n",
       "    <tr>\n",
       "      <th>2</th>\n",
       "      <td>3eu6MEFlq2Dg7bQh8QbdOg</td>\n",
       "      <td>Dravosburg</td>\n",
       "      <td>1 Ravine St Dravosburg, PA 15034</td>\n",
       "      <td>40.350956</td>\n",
       "      <td>-79.889059</td>\n",
       "      <td>Joe Cislo's Auto</td>\n",
       "      <td>3</td>\n",
       "      <td>5.0</td>\n",
       "      <td>PA</td>\n",
       "      <td>business</td>\n",
       "      <td>...</td>\n",
       "      <td>0</td>\n",
       "      <td>0</td>\n",
       "      <td>0</td>\n",
       "      <td>0</td>\n",
       "      <td>0</td>\n",
       "      <td>0</td>\n",
       "      <td>0</td>\n",
       "      <td>0</td>\n",
       "      <td>0</td>\n",
       "      <td>0</td>\n",
       "    </tr>\n",
       "    <tr>\n",
       "      <th>3</th>\n",
       "      <td>cE27W9VPgO88Qxe4ol6y_g</td>\n",
       "      <td>Bethel Park</td>\n",
       "      <td>1530 Hamilton Rd Bethel Park, PA 15234</td>\n",
       "      <td>40.354115</td>\n",
       "      <td>-80.014660</td>\n",
       "      <td>Cool Springs Golf Center</td>\n",
       "      <td>5</td>\n",
       "      <td>2.5</td>\n",
       "      <td>PA</td>\n",
       "      <td>business</td>\n",
       "      <td>...</td>\n",
       "      <td>0</td>\n",
       "      <td>0</td>\n",
       "      <td>0</td>\n",
       "      <td>0</td>\n",
       "      <td>0</td>\n",
       "      <td>0</td>\n",
       "      <td>0</td>\n",
       "      <td>9</td>\n",
       "      <td>1</td>\n",
       "      <td>0</td>\n",
       "    </tr>\n",
       "    <tr>\n",
       "      <th>4</th>\n",
       "      <td>HZdLhv6COCleJMo7nPl-RA</td>\n",
       "      <td>Pittsburgh</td>\n",
       "      <td>301 South Hills Village Pittsburgh, PA 15241</td>\n",
       "      <td>40.357620</td>\n",
       "      <td>-80.059980</td>\n",
       "      <td>Verizon</td>\n",
       "      <td>5</td>\n",
       "      <td>2.5</td>\n",
       "      <td>PA</td>\n",
       "      <td>business</td>\n",
       "      <td>...</td>\n",
       "      <td>0</td>\n",
       "      <td>0</td>\n",
       "      <td>0</td>\n",
       "      <td>0</td>\n",
       "      <td>0</td>\n",
       "      <td>0</td>\n",
       "      <td>0</td>\n",
       "      <td>0</td>\n",
       "      <td>0</td>\n",
       "      <td>0</td>\n",
       "    </tr>\n",
       "  </tbody>\n",
       "</table>\n",
       "<p>5 rows × 40 columns</p>\n",
       "</div>"
      ],
      "text/plain": [
       "              business_id         city  \\\n",
       "0  5UmKMjUEUNdYWqANhGckJw   Dravosburg   \n",
       "1  UsFtqoBl7naz8AVUBZMjQQ   Dravosburg   \n",
       "2  3eu6MEFlq2Dg7bQh8QbdOg   Dravosburg   \n",
       "3  cE27W9VPgO88Qxe4ol6y_g  Bethel Park   \n",
       "4  HZdLhv6COCleJMo7nPl-RA   Pittsburgh   \n",
       "\n",
       "                                   full_address   latitude  longitude  \\\n",
       "0   4734 Lebanon Church Rd Dravosburg, PA 15034  40.354327 -79.900706   \n",
       "1           202 McClure St Dravosburg, PA 15034  40.350553 -79.886814   \n",
       "2              1 Ravine St Dravosburg, PA 15034  40.350956 -79.889059   \n",
       "3        1530 Hamilton Rd Bethel Park, PA 15234  40.354115 -80.014660   \n",
       "4  301 South Hills Village Pittsburgh, PA 15241  40.357620 -80.059980   \n",
       "\n",
       "                       name  review_count  stars state      type  ...  \\\n",
       "0                 Mr Hoagie             4    4.5    PA  business  ...   \n",
       "1              Clancy's Pub             4    3.5    PA  business  ...   \n",
       "2          Joe Cislo's Auto             3    5.0    PA  business  ...   \n",
       "3  Cool Springs Golf Center             5    2.5    PA  business  ...   \n",
       "4                   Verizon             5    2.5    PA  business  ...   \n",
       "\n",
       "   Pakistani  Barbeque  Vietnamese  Asian Fusion  Diners  Greek  Vegetarian  \\\n",
       "0          0         0           0             0       0      0           0   \n",
       "1          0         0           0             0       0      0           0   \n",
       "2          0         0           0             0       0      0           0   \n",
       "3          0         0           0             0       0      0           0   \n",
       "4          0         0           0             0       0      0           0   \n",
       "\n",
       "   Number_of_Checkins  Number_of_Tips  Number_of_Tip_Likes  \n",
       "0                   0               0                    0  \n",
       "1                   0               0                    0  \n",
       "2                   0               0                    0  \n",
       "3                   9               1                    0  \n",
       "4                   0               0                    0  \n",
       "\n",
       "[5 rows x 40 columns]"
      ]
     },
     "execution_count": 50,
     "metadata": {},
     "output_type": "execute_result"
    }
   ],
   "source": [
    "#Write your code here\n",
    "df_yelp = pd.read_csv(\"data\\Yelp_Data.csv\")\n",
    "df_yelp.head()"
   ]
  },
  {
   "cell_type": "markdown",
   "metadata": {},
   "source": [
    "Find the average star rating for each state (You can ignore the number of reviews for each restaurant). Store the result df_1."
   ]
  },
  {
   "cell_type": "code",
   "execution_count": 51,
   "metadata": {},
   "outputs": [
    {
     "data": {
      "text/plain": [
       "state\n",
       "AL     3.500000\n",
       "AR     5.000000\n",
       "AZ     3.709550\n",
       "BW     3.768531\n",
       "CA     3.500000\n",
       "EDH    3.807995\n",
       "ELN    3.791667\n",
       "FIF    3.700000\n",
       "HAM    4.500000\n",
       "IL     3.549728\n",
       "KHL    3.500000\n",
       "MA     5.000000\n",
       "MLN    3.842466\n",
       "MN     5.000000\n",
       "NC     3.587095\n",
       "NM     3.000000\n",
       "NTH    2.000000\n",
       "NV     3.682979\n",
       "NW     4.500000\n",
       "ON     3.577825\n",
       "OR     2.500000\n",
       "PA     3.699276\n",
       "QC     3.579906\n",
       "RP     4.083333\n",
       "SC     3.568266\n",
       "SCB    4.000000\n",
       "TX     4.500000\n",
       "WI     3.659335\n",
       "Name: stars, dtype: float64"
      ]
     },
     "execution_count": 51,
     "metadata": {},
     "output_type": "execute_result"
    }
   ],
   "source": [
    "#Write you code here\n",
    "df_avg_star = df_yelp.groupby( by = [\"state\"]).stars.mean()\n",
    "df_avg_star"
   ]
  },
  {
   "cell_type": "markdown",
   "metadata": {},
   "source": [
    "For each state compute the avg number of stars taking into account the number of reviews they got. First create a column called \"total_stars\", which is stars*review.  Then use groupby to compute the sum of total_stars as well as the sum of the number of reviews for each state and store the result in df_2. After this groupby remove all states that have fewer than 100 reviews. Then use this df to create column that is the average star rating."
   ]
  },
  {
   "cell_type": "code",
   "execution_count": 61,
   "metadata": {},
   "outputs": [
    {
     "data": {
      "text/html": [
       "<div>\n",
       "<style scoped>\n",
       "    .dataframe tbody tr th:only-of-type {\n",
       "        vertical-align: middle;\n",
       "    }\n",
       "\n",
       "    .dataframe tbody tr th {\n",
       "        vertical-align: top;\n",
       "    }\n",
       "\n",
       "    .dataframe thead th {\n",
       "        text-align: right;\n",
       "    }\n",
       "</style>\n",
       "<table border=\"1\" class=\"dataframe\">\n",
       "  <thead>\n",
       "    <tr style=\"text-align: right;\">\n",
       "      <th></th>\n",
       "      <th>total_stars</th>\n",
       "      <th>review_count</th>\n",
       "      <th>avg_rating</th>\n",
       "    </tr>\n",
       "    <tr>\n",
       "      <th>state</th>\n",
       "      <th></th>\n",
       "      <th></th>\n",
       "      <th></th>\n",
       "    </tr>\n",
       "  </thead>\n",
       "  <tbody>\n",
       "    <tr>\n",
       "      <th>AZ</th>\n",
       "      <td>3415475.5</td>\n",
       "      <td>905894</td>\n",
       "      <td>3.770282</td>\n",
       "    </tr>\n",
       "    <tr>\n",
       "      <th>BW</th>\n",
       "      <td>31424.0</td>\n",
       "      <td>8408</td>\n",
       "      <td>3.737393</td>\n",
       "    </tr>\n",
       "    <tr>\n",
       "      <th>CA</th>\n",
       "      <td>427.5</td>\n",
       "      <td>126</td>\n",
       "      <td>3.392857</td>\n",
       "    </tr>\n",
       "    <tr>\n",
       "      <th>EDH</th>\n",
       "      <td>151274.0</td>\n",
       "      <td>39086</td>\n",
       "      <td>3.870286</td>\n",
       "    </tr>\n",
       "    <tr>\n",
       "      <th>IL</th>\n",
       "      <td>63702.5</td>\n",
       "      <td>17273</td>\n",
       "      <td>3.687981</td>\n",
       "    </tr>\n",
       "    <tr>\n",
       "      <th>MLN</th>\n",
       "      <td>5079.5</td>\n",
       "      <td>1283</td>\n",
       "      <td>3.959080</td>\n",
       "    </tr>\n",
       "    <tr>\n",
       "      <th>NC</th>\n",
       "      <td>531745.0</td>\n",
       "      <td>144071</td>\n",
       "      <td>3.690854</td>\n",
       "    </tr>\n",
       "    <tr>\n",
       "      <th>NV</th>\n",
       "      <td>3904524.0</td>\n",
       "      <td>1047481</td>\n",
       "      <td>3.727537</td>\n",
       "    </tr>\n",
       "    <tr>\n",
       "      <th>ON</th>\n",
       "      <td>18858.0</td>\n",
       "      <td>5191</td>\n",
       "      <td>3.632826</td>\n",
       "    </tr>\n",
       "    <tr>\n",
       "      <th>PA</th>\n",
       "      <td>373508.5</td>\n",
       "      <td>99219</td>\n",
       "      <td>3.764486</td>\n",
       "    </tr>\n",
       "    <tr>\n",
       "      <th>QC</th>\n",
       "      <td>27409.5</td>\n",
       "      <td>7612</td>\n",
       "      <td>3.600828</td>\n",
       "    </tr>\n",
       "    <tr>\n",
       "      <th>SC</th>\n",
       "      <td>14587.0</td>\n",
       "      <td>3993</td>\n",
       "      <td>3.653143</td>\n",
       "    </tr>\n",
       "    <tr>\n",
       "      <th>TX</th>\n",
       "      <td>4020.0</td>\n",
       "      <td>1002</td>\n",
       "      <td>4.011976</td>\n",
       "    </tr>\n",
       "    <tr>\n",
       "      <th>WI</th>\n",
       "      <td>241349.5</td>\n",
       "      <td>64401</td>\n",
       "      <td>3.747605</td>\n",
       "    </tr>\n",
       "  </tbody>\n",
       "</table>\n",
       "</div>"
      ],
      "text/plain": [
       "       total_stars  review_count  avg_rating\n",
       "state                                       \n",
       "AZ       3415475.5        905894    3.770282\n",
       "BW         31424.0          8408    3.737393\n",
       "CA           427.5           126    3.392857\n",
       "EDH       151274.0         39086    3.870286\n",
       "IL         63702.5         17273    3.687981\n",
       "MLN         5079.5          1283    3.959080\n",
       "NC        531745.0        144071    3.690854\n",
       "NV       3904524.0       1047481    3.727537\n",
       "ON         18858.0          5191    3.632826\n",
       "PA        373508.5         99219    3.764486\n",
       "QC         27409.5          7612    3.600828\n",
       "SC         14587.0          3993    3.653143\n",
       "TX          4020.0          1002    4.011976\n",
       "WI        241349.5         64401    3.747605"
      ]
     },
     "execution_count": 61,
     "metadata": {},
     "output_type": "execute_result"
    }
   ],
   "source": [
    "#new column\n",
    "df_yelp[\"total_stars\"] = df_yelp[\"stars\"] * df_yelp[\"review_count\"]\n",
    "df_yelp.head()\n",
    "\n",
    "#use groupby to compute the sum of total_stars\n",
    "#as well as the sum of the number of reviews for each state and store the result in df_2.\n",
    "df_2 = df_yelp.groupby( by = [\"state\"] )[[\"total_stars\",\"review_count\"]].agg( np.sum )\n",
    "df_2\n",
    "\n",
    "#remove all states that have fewer than 100 review\n",
    "df_2_100 = df_2.loc[ df_2[\"review_count\"] >= 100 , : ].copy()\n",
    "\n",
    "#use this df to create column that is the average star rating\n",
    "df_2_100[\"avg_rating\"] = df_2_100[\"total_stars\"]/df_2_100[\"review_count\"]\n",
    "df_2_100"
   ]
  },
  {
   "cell_type": "markdown",
   "metadata": {},
   "source": [
    "Answer the same question as the previous question but use apply + grouply  + lambda function. Here don't worry about filtering for states with fewer than 100 reviews."
   ]
  },
  {
   "cell_type": "code",
   "execution_count": 60,
   "metadata": {},
   "outputs": [
    {
     "data": {
      "text/html": [
       "<div>\n",
       "<style scoped>\n",
       "    .dataframe tbody tr th:only-of-type {\n",
       "        vertical-align: middle;\n",
       "    }\n",
       "\n",
       "    .dataframe tbody tr th {\n",
       "        vertical-align: top;\n",
       "    }\n",
       "\n",
       "    .dataframe thead th {\n",
       "        text-align: right;\n",
       "    }\n",
       "</style>\n",
       "<table border=\"1\" class=\"dataframe\">\n",
       "  <thead>\n",
       "    <tr style=\"text-align: right;\">\n",
       "      <th></th>\n",
       "      <th>total_stars</th>\n",
       "      <th>review_count</th>\n",
       "      <th>avg_stars</th>\n",
       "    </tr>\n",
       "    <tr>\n",
       "      <th>state</th>\n",
       "      <th></th>\n",
       "      <th></th>\n",
       "      <th></th>\n",
       "    </tr>\n",
       "  </thead>\n",
       "  <tbody>\n",
       "    <tr>\n",
       "      <th>AL</th>\n",
       "      <td>14.0</td>\n",
       "      <td>4.0</td>\n",
       "      <td>3.500000</td>\n",
       "    </tr>\n",
       "    <tr>\n",
       "      <th>AR</th>\n",
       "      <td>115.0</td>\n",
       "      <td>23.0</td>\n",
       "      <td>5.000000</td>\n",
       "    </tr>\n",
       "    <tr>\n",
       "      <th>AZ</th>\n",
       "      <td>3415475.5</td>\n",
       "      <td>905894.0</td>\n",
       "      <td>3.770282</td>\n",
       "    </tr>\n",
       "    <tr>\n",
       "      <th>BW</th>\n",
       "      <td>31424.0</td>\n",
       "      <td>8408.0</td>\n",
       "      <td>3.737393</td>\n",
       "    </tr>\n",
       "    <tr>\n",
       "      <th>CA</th>\n",
       "      <td>427.5</td>\n",
       "      <td>126.0</td>\n",
       "      <td>3.392857</td>\n",
       "    </tr>\n",
       "    <tr>\n",
       "      <th>EDH</th>\n",
       "      <td>151274.0</td>\n",
       "      <td>39086.0</td>\n",
       "      <td>3.870286</td>\n",
       "    </tr>\n",
       "    <tr>\n",
       "      <th>ELN</th>\n",
       "      <td>222.0</td>\n",
       "      <td>59.0</td>\n",
       "      <td>3.762712</td>\n",
       "    </tr>\n",
       "    <tr>\n",
       "      <th>FIF</th>\n",
       "      <td>139.5</td>\n",
       "      <td>39.0</td>\n",
       "      <td>3.576923</td>\n",
       "    </tr>\n",
       "    <tr>\n",
       "      <th>HAM</th>\n",
       "      <td>13.5</td>\n",
       "      <td>3.0</td>\n",
       "      <td>4.500000</td>\n",
       "    </tr>\n",
       "    <tr>\n",
       "      <th>IL</th>\n",
       "      <td>63702.5</td>\n",
       "      <td>17273.0</td>\n",
       "      <td>3.687981</td>\n",
       "    </tr>\n",
       "    <tr>\n",
       "      <th>KHL</th>\n",
       "      <td>28.0</td>\n",
       "      <td>8.0</td>\n",
       "      <td>3.500000</td>\n",
       "    </tr>\n",
       "    <tr>\n",
       "      <th>MA</th>\n",
       "      <td>15.0</td>\n",
       "      <td>3.0</td>\n",
       "      <td>5.000000</td>\n",
       "    </tr>\n",
       "    <tr>\n",
       "      <th>MLN</th>\n",
       "      <td>5079.5</td>\n",
       "      <td>1283.0</td>\n",
       "      <td>3.959080</td>\n",
       "    </tr>\n",
       "    <tr>\n",
       "      <th>MN</th>\n",
       "      <td>20.0</td>\n",
       "      <td>4.0</td>\n",
       "      <td>5.000000</td>\n",
       "    </tr>\n",
       "    <tr>\n",
       "      <th>NC</th>\n",
       "      <td>531745.0</td>\n",
       "      <td>144071.0</td>\n",
       "      <td>3.690854</td>\n",
       "    </tr>\n",
       "    <tr>\n",
       "      <th>NM</th>\n",
       "      <td>42.0</td>\n",
       "      <td>14.0</td>\n",
       "      <td>3.000000</td>\n",
       "    </tr>\n",
       "    <tr>\n",
       "      <th>NTH</th>\n",
       "      <td>34.0</td>\n",
       "      <td>17.0</td>\n",
       "      <td>2.000000</td>\n",
       "    </tr>\n",
       "    <tr>\n",
       "      <th>NV</th>\n",
       "      <td>3904524.0</td>\n",
       "      <td>1047481.0</td>\n",
       "      <td>3.727537</td>\n",
       "    </tr>\n",
       "    <tr>\n",
       "      <th>NW</th>\n",
       "      <td>27.0</td>\n",
       "      <td>6.0</td>\n",
       "      <td>4.500000</td>\n",
       "    </tr>\n",
       "    <tr>\n",
       "      <th>ON</th>\n",
       "      <td>18858.0</td>\n",
       "      <td>5191.0</td>\n",
       "      <td>3.632826</td>\n",
       "    </tr>\n",
       "    <tr>\n",
       "      <th>OR</th>\n",
       "      <td>22.5</td>\n",
       "      <td>9.0</td>\n",
       "      <td>2.500000</td>\n",
       "    </tr>\n",
       "    <tr>\n",
       "      <th>PA</th>\n",
       "      <td>373508.5</td>\n",
       "      <td>99219.0</td>\n",
       "      <td>3.764486</td>\n",
       "    </tr>\n",
       "    <tr>\n",
       "      <th>QC</th>\n",
       "      <td>27409.5</td>\n",
       "      <td>7612.0</td>\n",
       "      <td>3.600828</td>\n",
       "    </tr>\n",
       "    <tr>\n",
       "      <th>RP</th>\n",
       "      <td>128.5</td>\n",
       "      <td>33.0</td>\n",
       "      <td>3.893939</td>\n",
       "    </tr>\n",
       "    <tr>\n",
       "      <th>SC</th>\n",
       "      <td>14587.0</td>\n",
       "      <td>3993.0</td>\n",
       "      <td>3.653143</td>\n",
       "    </tr>\n",
       "    <tr>\n",
       "      <th>SCB</th>\n",
       "      <td>68.0</td>\n",
       "      <td>17.0</td>\n",
       "      <td>4.000000</td>\n",
       "    </tr>\n",
       "    <tr>\n",
       "      <th>TX</th>\n",
       "      <td>4020.0</td>\n",
       "      <td>1002.0</td>\n",
       "      <td>4.011976</td>\n",
       "    </tr>\n",
       "    <tr>\n",
       "      <th>WI</th>\n",
       "      <td>241349.5</td>\n",
       "      <td>64401.0</td>\n",
       "      <td>3.747605</td>\n",
       "    </tr>\n",
       "  </tbody>\n",
       "</table>\n",
       "</div>"
      ],
      "text/plain": [
       "       total_stars  review_count  avg_stars\n",
       "state                                      \n",
       "AL            14.0           4.0   3.500000\n",
       "AR           115.0          23.0   5.000000\n",
       "AZ       3415475.5      905894.0   3.770282\n",
       "BW         31424.0        8408.0   3.737393\n",
       "CA           427.5         126.0   3.392857\n",
       "EDH       151274.0       39086.0   3.870286\n",
       "ELN          222.0          59.0   3.762712\n",
       "FIF          139.5          39.0   3.576923\n",
       "HAM           13.5           3.0   4.500000\n",
       "IL         63702.5       17273.0   3.687981\n",
       "KHL           28.0           8.0   3.500000\n",
       "MA            15.0           3.0   5.000000\n",
       "MLN         5079.5        1283.0   3.959080\n",
       "MN            20.0           4.0   5.000000\n",
       "NC        531745.0      144071.0   3.690854\n",
       "NM            42.0          14.0   3.000000\n",
       "NTH           34.0          17.0   2.000000\n",
       "NV       3904524.0     1047481.0   3.727537\n",
       "NW            27.0           6.0   4.500000\n",
       "ON         18858.0        5191.0   3.632826\n",
       "OR            22.5           9.0   2.500000\n",
       "PA        373508.5       99219.0   3.764486\n",
       "QC         27409.5        7612.0   3.600828\n",
       "RP           128.5          33.0   3.893939\n",
       "SC         14587.0        3993.0   3.653143\n",
       "SCB           68.0          17.0   4.000000\n",
       "TX          4020.0        1002.0   4.011976\n",
       "WI        241349.5       64401.0   3.747605"
      ]
     },
     "execution_count": 60,
     "metadata": {},
     "output_type": "execute_result"
    }
   ],
   "source": [
    "#Write your code here\n",
    "df_3 = df_yelp.groupby( by = [\"state\"] )[[\"total_stars\",\"review_count\"]].apply( lambda x: pd.Series( \n",
    "    {\"total_stars\": np.sum(x[\"total_stars\"]),\n",
    "    \"review_count\": np.sum(x[\"review_count\"]),\n",
    "    \"avg_stars\": np.sum( x[\"total_stars\"] ) / np.sum( x[\"review_count\"] ) } ) )\n",
    "df_3"
   ]
  },
  {
   "cell_type": "markdown",
   "metadata": {},
   "source": [
    "Find the most popular zip code for restaurants rated in AZ and NV.  "
   ]
  },
  {
   "cell_type": "code",
   "execution_count": 89,
   "metadata": {},
   "outputs": [
    {
     "data": {
      "text/plain": [
       "state\n",
       "AZ    85251\n",
       "NV    89109\n",
       "Name: zipcode, dtype: object"
      ]
     },
     "execution_count": 89,
     "metadata": {},
     "output_type": "execute_result"
    }
   ],
   "source": [
    "#Write your code here\n",
    "df_4 = df_yelp.loc[ df_yelp[\"state\"].isin([\"AZ\",\"NV\"]) ].copy()\n",
    "df_4[\"zipcode\"] = df_4[\"full_address\"].apply( lambda x: x.split(\" \")[-1] )\n",
    "\n",
    "df_4.groupby(\"state\")[\"zipcode\"].apply( lambda x: x.value_counts().index[0] )"
   ]
  },
  {
   "cell_type": "code",
   "execution_count": null,
   "metadata": {},
   "outputs": [],
   "source": [
    "#Put all ChatGPT codes here\n",
    "\n"
   ]
  }
 ],
 "metadata": {
  "kernelspec": {
   "display_name": "Python 3 (ipykernel)",
   "language": "python",
   "name": "python3"
  },
  "language_info": {
   "codemirror_mode": {
    "name": "ipython",
    "version": 3
   },
   "file_extension": ".py",
   "mimetype": "text/x-python",
   "name": "python",
   "nbconvert_exporter": "python",
   "pygments_lexer": "ipython3",
   "version": "3.11.5"
  },
  "toc": {
   "colors": {
    "hover_highlight": "#DAA520",
    "navigate_num": "#000000",
    "navigate_text": "#333333",
    "running_highlight": "#FF0000",
    "selected_highlight": "#FFD700",
    "sidebar_border": "#EEEEEE",
    "wrapper_background": "#FFFFFF"
   },
   "moveMenuLeft": true,
   "nav_menu": {
    "height": "12px",
    "width": "252px"
   },
   "navigate_menu": true,
   "number_sections": true,
   "sideBar": true,
   "skip_h1_title": false,
   "threshold": 4,
   "toc_cell": false,
   "toc_position": {},
   "toc_section_display": "block",
   "toc_window_display": false,
   "widenNotebook": false
  }
 },
 "nbformat": 4,
 "nbformat_minor": 2
}
