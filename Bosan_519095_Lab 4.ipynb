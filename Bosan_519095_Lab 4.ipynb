{
 "cells": [
  {
   "cell_type": "markdown",
   "metadata": {},
   "source": [
    "# Files Practice"
   ]
  },
  {
   "cell_type": "markdown",
   "metadata": {},
   "source": [
    "Read in the text file 'Pizza_File.txt'  and find the number of times the letter a (upper or lower case) appears. Also compute the average number of slices consumed."
   ]
  },
  {
   "cell_type": "code",
   "execution_count": 38,
   "metadata": {},
   "outputs": [
    {
     "name": "stdout",
     "output_type": "stream",
     "text": [
      "7\n",
      "6.166666666666667\n"
     ]
    }
   ],
   "source": [
    "#Write you code here\n",
    "\n",
    "pizza = open(\"Data/Pizza_File.txt\" , \"r\" )\n",
    "\n",
    "lines = pizza.readlines()\n",
    "\n",
    "sentence = lines[0]\n",
    "consumptions = lines[1]\n",
    "    \n",
    "a = sentence.count( \"a\" or \"A\" )\n",
    "        \n",
    "print(a)\n",
    "\n",
    "number = consumptions.strip('')\n",
    "\n",
    "days = 0\n",
    "pieces = 0\n",
    "for i in range( len(number) ):\n",
    "    if number[i] != \",\":\n",
    "        days += 1\n",
    "        pieces += int(number[i])\n",
    "avg = pieces / days\n",
    "\n",
    "print( avg )"
   ]
  },
  {
   "cell_type": "code",
   "execution_count": null,
   "metadata": {},
   "outputs": [],
   "source": [
    "# Write ChatGPT code here\n"
   ]
  },
  {
   "cell_type": "markdown",
   "metadata": {},
   "source": [
    "Read in the text file 'scores.txt' and create a dictionary where the keys are the names and the values are lists of scores"
   ]
  },
  {
   "cell_type": "code",
   "execution_count": 13,
   "metadata": {},
   "outputs": [
    {
     "name": "stdout",
     "output_type": "stream",
     "text": [
      "{'Jake': [100, 100, 100, 101, 99], 'Dennis': [101, 99, 101, 99], 'Amr': [0, 1, 2, 3, 4, 5]}\n"
     ]
    }
   ],
   "source": [
    "#Write your code here\n",
    "scores = open(\"Data/scores.txt\" , \"r\" )\n",
    "\n",
    "for lines in scores:\n",
    "    data = lines.strip('/n').split(\", \")\n",
    "    name = data[0]\n",
    "    scores = []\n",
    "    for score in data[1:]:\n",
    "        scores.append( int(score) )\n",
    "        scores_dict[name] = scores\n",
    "print(scores_dict)\n"
   ]
  },
  {
   "cell_type": "code",
   "execution_count": null,
   "metadata": {},
   "outputs": [],
   "source": [
    "# Write ChatGPT code here\n"
   ]
  },
  {
   "cell_type": "markdown",
   "metadata": {},
   "source": [
    "Read in the file 'user_likes.txt' and create a dictionary where the keys are the movies and the values are the fraction of times this movie was liked."
   ]
  },
  {
   "cell_type": "code",
   "execution_count": 44,
   "metadata": {},
   "outputs": [
    {
     "name": "stdout",
     "output_type": "stream",
     "text": [
      "{'Suicide Squad': 1.0, 'The Great Wall': 1.0, 'La La Land': 1.0, 'Rogue One': 1.0}\n"
     ]
    }
   ],
   "source": [
    "#Write your code here\n",
    "dl = open(\"Data/user_likes.txt\")\n",
    "lines = dl.readlines()\n",
    "lines\n",
    "\n",
    "ratings = {}\n",
    "for line in lines:\n",
    "    data = line.strip(\"\\n\").split(\",\")\n",
    "    movie = data[1]\n",
    "    score = int(info[2])\n",
    "    if movie in ratings:\n",
    "        ratings[movie].append(score)\n",
    "    else:\n",
    "        ratings[movie] = [score]\n",
    "\n",
    "avg = {}\n",
    "for movie in ratings:\n",
    "    avg[movie] = sum(ratings[movie])/len(ratings[movie])\n",
    "\n",
    "print(avg)"
   ]
  },
  {
   "cell_type": "code",
   "execution_count": null,
   "metadata": {},
   "outputs": [],
   "source": [
    "# Write ChatGPT code here\n"
   ]
  },
  {
   "cell_type": "markdown",
   "metadata": {},
   "source": [
    "The folder Stock_Data contains stock price information (open, hi, low, close, adj close, volume) on all of the stocks listed in stock_tickers.csv.  For each of the stocks listed in this file, we would like to compute the average open price for the first quarter and write these results to new csv called Q1_Results.csv.\n",
    "\n",
    "\n",
    "First read the 20 stock tickers into a list from the file stock_tickers.csv"
   ]
  },
  {
   "cell_type": "code",
   "execution_count": 54,
   "metadata": {},
   "outputs": [
    {
     "name": "stdout",
     "output_type": "stream",
     "text": [
      "['ABB', 'ACN', 'ATVI', 'ADBE', 'AAPL', 'AMAT', 'ASML', 'ADP', 'BIDU', 'CA', 'CAJ', 'CSCO', 'CTSH', 'GLW', 'DVMT', 'EBAY', 'EMR', 'ERIC', 'GOOG', 'HPQ']\n"
     ]
    }
   ],
   "source": [
    "#Write your code here\n",
    "stock = open(\"Data/stock_data/Stock_tickers.csv\")\n",
    "lines = stock.readlines()\n",
    "lines\n",
    "\n",
    "list =[]\n",
    "for line in lines :\n",
    "    list.append(line.strip(\"\\n\"))    \n",
    "print(list)\n",
    "\n",
    "    "
   ]
  },
  {
   "cell_type": "code",
   "execution_count": null,
   "metadata": {},
   "outputs": [],
   "source": [
    "# Write ChatGPT code here\n"
   ]
  },
  {
   "cell_type": "markdown",
   "metadata": {},
   "source": [
    "Next, create a dictionary where there is a key for each stock and the values are a list of the opening prices for the first quarter"
   ]
  },
  {
   "cell_type": "code",
   "execution_count": 62,
   "metadata": {},
   "outputs": [
    {
     "ename": "TypeError",
     "evalue": "'float' object is not callable",
     "output_type": "error",
     "traceback": [
      "\u001b[1;31m---------------------------------------------------------------------------\u001b[0m",
      "\u001b[1;31mTypeError\u001b[0m                                 Traceback (most recent call last)",
      "Cell \u001b[1;32mIn[62], line 2\u001b[0m\n\u001b[0;32m      1\u001b[0m \u001b[38;5;66;03m#Write your code here\u001b[39;00m\n\u001b[1;32m----> 2\u001b[0m stock \u001b[38;5;241m=\u001b[39m \u001b[38;5;28mopen\u001b[39m(\u001b[38;5;124m\"\u001b[39m\u001b[38;5;124mData/stock_data/Stock_tickers.csv\u001b[39m\u001b[38;5;124m\"\u001b[39m)\n\u001b[0;32m      3\u001b[0m lines \u001b[38;5;241m=\u001b[39m stock\u001b[38;5;241m.\u001b[39mreadlines()\n\u001b[0;32m      4\u001b[0m lines\n",
      "\u001b[1;31mTypeError\u001b[0m: 'float' object is not callable"
     ]
    }
   ],
   "source": [
    "#Write your code here\n",
    "stock = open(\"Data/stock_data/Stock_tickers.csv\")\n",
    "lines = stock.readlines()\n",
    "lines\n",
    "\n",
    "list =[]\n",
    "for line in lines :\n",
    "    list.append(line.strip(\"\\n\"))    \n",
    "Q1 ={}\n",
    "for name in list:\n",
    "    Q1[name] = []\n",
    "    data = open(\"Data/stock_data/%s.csv\" %name)\n",
    "    lines = data.readlines()\n",
    "    for i in lines[1:]:\n",
    "        split = i.split(\",\")\n",
    "        date = split[1]\n",
    "        open = float( split[2] )\n",
    "        month = int(date.split(\"-\")[1])\n",
    "        if month<=3:\n",
    "            Q1[name].append(open)\n",
    "list( Q1 )\n"
   ]
  },
  {
   "cell_type": "code",
   "execution_count": null,
   "metadata": {},
   "outputs": [],
   "source": [
    "# Write ChatGPT code here\n"
   ]
  },
  {
   "cell_type": "markdown",
   "metadata": {},
   "source": [
    "The final step is writing the result to a new csv called Q1_results.csv"
   ]
  },
  {
   "cell_type": "code",
   "execution_count": 59,
   "metadata": {},
   "outputs": [
    {
     "ename": "NameError",
     "evalue": "name 'Q1_results_D' is not defined",
     "output_type": "error",
     "traceback": [
      "\u001b[1;31m---------------------------------------------------------------------------\u001b[0m",
      "\u001b[1;31mNameError\u001b[0m                                 Traceback (most recent call last)",
      "Cell \u001b[1;32mIn[59], line 3\u001b[0m\n\u001b[0;32m      1\u001b[0m \u001b[38;5;66;03m#Write your code here\u001b[39;00m\n\u001b[0;32m      2\u001b[0m result \u001b[38;5;241m=\u001b[39m \u001b[38;5;28mopen\u001b[39m(\u001b[38;5;124m\"\u001b[39m\u001b[38;5;124mData/stock_data/Q1_results.csv\u001b[39m\u001b[38;5;124m\"\u001b[39m, \u001b[38;5;124m\"\u001b[39m\u001b[38;5;124mw\u001b[39m\u001b[38;5;124m\"\u001b[39m)\n\u001b[1;32m----> 3\u001b[0m \u001b[38;5;28;01mfor\u001b[39;00m ticker \u001b[38;5;129;01min\u001b[39;00m Q1_results_D:\n\u001b[0;32m      4\u001b[0m     open_price_Q1 \u001b[38;5;241m=\u001b[39m Q1_results_D[ticker]\n\u001b[0;32m      5\u001b[0m     avg_open_Q1 \u001b[38;5;241m=\u001b[39m \u001b[38;5;28msum\u001b[39m(open_price_Q1)\u001b[38;5;241m/\u001b[39m\u001b[38;5;28mlen\u001b[39m(open_price_Q1)\n",
      "\u001b[1;31mNameError\u001b[0m: name 'Q1_results_D' is not defined"
     ]
    }
   ],
   "source": [
    "#Write your code here\n",
    "result = open(\"Data/stock_data/Q1_results.csv\", \"w\")\n",
    "for ticker in Q1_results_D:\n",
    "    open_price_Q1 = Q1_results_D[ticker]\n",
    "    avg_open_Q1 = sum(open_price_Q1)/len(open_price_Q1)\n",
    "    f.write(\"%s,%0.2f\\n\" %(ticker,avg_open_Q1))\n",
    "f.close()\n",
    "    "
   ]
  },
  {
   "cell_type": "code",
   "execution_count": null,
   "metadata": {},
   "outputs": [],
   "source": [
    "# Write ChatGPT code here\n"
   ]
  }
 ],
 "metadata": {
  "kernelspec": {
   "display_name": "Python 3 (ipykernel)",
   "language": "python",
   "name": "python3"
  },
  "language_info": {
   "codemirror_mode": {
    "name": "ipython",
    "version": 3
   },
   "file_extension": ".py",
   "mimetype": "text/x-python",
   "name": "python",
   "nbconvert_exporter": "python",
   "pygments_lexer": "ipython3",
   "version": "3.11.4"
  },
  "toc": {
   "colors": {
    "hover_highlight": "#DAA520",
    "navigate_num": "#000000",
    "navigate_text": "#333333",
    "running_highlight": "#FF0000",
    "selected_highlight": "#FFD700",
    "sidebar_border": "#EEEEEE",
    "wrapper_background": "#FFFFFF"
   },
   "moveMenuLeft": true,
   "nav_menu": {
    "height": "30px",
    "width": "252px"
   },
   "navigate_menu": true,
   "number_sections": true,
   "sideBar": true,
   "threshold": 4,
   "toc_cell": false,
   "toc_section_display": "block",
   "toc_window_display": false,
   "widenNotebook": false
  }
 },
 "nbformat": 4,
 "nbformat_minor": 2
}
