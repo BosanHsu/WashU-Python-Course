{
 "cells": [
  {
   "cell_type": "markdown",
   "metadata": {},
   "source": [
    "# Scope Practice"
   ]
  },
  {
   "cell_type": "code",
   "execution_count": 3,
   "metadata": {},
   "outputs": [
    {
     "name": "stdout",
     "output_type": "stream",
     "text": [
      "10\n",
      "None\n"
     ]
    }
   ],
   "source": [
    "# Exercise 1.a: What does this code print out?\n",
    "\n",
    "a = 10\n",
    "\n",
    "def plus_one(a):\n",
    "    a = a + 1\n",
    "    \n",
    "\n",
    "print(a)\n",
    "print(plus_one(a))"
   ]
  },
  {
   "cell_type": "code",
   "execution_count": 2,
   "metadata": {},
   "outputs": [
    {
     "name": "stdout",
     "output_type": "stream",
     "text": [
      "10\n",
      "None\n"
     ]
    }
   ],
   "source": [
    "# Exercise 1.b: What does this code print out?\n",
    "def plus_one(a):\n",
    "    a = a + 1\n",
    "\n",
    "a = 10\n",
    "print(a)\n",
    "print(plus_one(a))"
   ]
  },
  {
   "cell_type": "code",
   "execution_count": 1,
   "metadata": {},
   "outputs": [
    {
     "name": "stdout",
     "output_type": "stream",
     "text": [
      "10\n",
      "11\n"
     ]
    }
   ],
   "source": [
    "# Exercise 1.c: What does this code print out?\n",
    "def plus_one(a):\n",
    "    a = a + 1\n",
    "    return a\n",
    "\n",
    "a = 10\n",
    "print(a)\n",
    "print(plus_one(a))"
   ]
  },
  {
   "cell_type": "code",
   "execution_count": null,
   "metadata": {},
   "outputs": [],
   "source": [
    "def plus_one(a):\n",
    "    a = a + 1\n",
    "    return a\n",
    "\n",
    "b = 10\n",
    "print(b)\n",
    "print(plus_one(b))"
   ]
  },
  {
   "cell_type": "code",
   "execution_count": null,
   "metadata": {},
   "outputs": [],
   "source": [
    "# Exercise 1.d: What does this code print out?\n",
    "def plus_one(a):\n",
    "    a = a + 1\n",
    "    return a\n",
    "\n",
    "a = 10\n",
    "print(a)\n",
    "print(plus_one(a))\n",
    "print(a)"
   ]
  },
  {
   "cell_type": "code",
   "execution_count": null,
   "metadata": {},
   "outputs": [],
   "source": [
    "# Exercise 1.e: What does this code print out?\n",
    "def plus_one(a):\n",
    "    a = a + 1\n",
    "    return a \n",
    "\n",
    "a = 10\n",
    "print(a)\n",
    "print(plus_one(a))\n",
    "a = plus_one(a)\n",
    "print(a)"
   ]
  },
  {
   "cell_type": "markdown",
   "metadata": {},
   "source": [
    "# Function Practice\n",
    "\n",
    "Define the following function:\n",
    "\n",
    "- Input: list of numbers\n",
    "- Output: sum of these numbers"
   ]
  },
  {
   "cell_type": "code",
   "execution_count": 4,
   "metadata": {},
   "outputs": [
    {
     "name": "stdout",
     "output_type": "stream",
     "text": [
      "10\n"
     ]
    }
   ],
   "source": [
    "#Write your code here\n",
    "L = [1,2,3,4]\n",
    "\n",
    "def sum ( list ):\n",
    "    x = 0\n",
    "    for i in range( len( list ) ):\n",
    "            x += list[i]\n",
    "    return x\n",
    "\n",
    "print( sum ( L ) )"
   ]
  },
  {
   "cell_type": "markdown",
   "metadata": {},
   "source": [
    "Define the following function:\n",
    "\n",
    "- Input: string and number\n",
    "- Output: The character of the string in the index given by number.  If this index does not exist, then return -1."
   ]
  },
  {
   "cell_type": "code",
   "execution_count": 5,
   "metadata": {},
   "outputs": [
    {
     "name": "stdout",
     "output_type": "stream",
     "text": [
      "e\n"
     ]
    }
   ],
   "source": [
    "#Write you code here\n",
    "number = 3\n",
    "string = \"base\"\n",
    "\n",
    "def output( number, string):\n",
    "    if number < len( string ):\n",
    "        return string[ number ]\n",
    "    else:\n",
    "        return -1\n",
    "print( output( number, string) )"
   ]
  },
  {
   "cell_type": "markdown",
   "metadata": {},
   "source": [
    "Define the following function:\n",
    "\n",
    "- Input: list of string\n",
    "- Output single string with elements separated by  space\n",
    "\n",
    "Example:  string_join([\"test\", \"test\", \"test\"]) => \"test test test\""
   ]
  },
  {
   "cell_type": "code",
   "execution_count": 6,
   "metadata": {},
   "outputs": [
    {
     "name": "stdout",
     "output_type": "stream",
     "text": [
      "1 2 3 \n"
     ]
    }
   ],
   "source": [
    "#Write you code here\n",
    "list_strings = ['1','2','3']\n",
    "\n",
    "#output = '1 2 3'\n",
    "\n",
    "def words ( list ):\n",
    "    strings = \"\"\n",
    "    for i in list:\n",
    "        strings += i + \" \"\n",
    "    return strings\n",
    "\n",
    "print( words(list_strings) )\n"
   ]
  },
  {
   "cell_type": "code",
   "execution_count": null,
   "metadata": {},
   "outputs": [],
   "source": [
    "#Put ChatGPT code here\n",
    "\n"
   ]
  },
  {
   "cell_type": "markdown",
   "metadata": {},
   "source": [
    "Define the following function:\n",
    "    \n",
    "- Input: String separated by commas\n",
    "- Output: The sum of this numbers\n",
    "\n",
    "Example: sum_numbers_in_string(\"1,2,3,4\") => 10"
   ]
  },
  {
   "cell_type": "code",
   "execution_count": 7,
   "metadata": {},
   "outputs": [
    {
     "name": "stdout",
     "output_type": "stream",
     "text": [
      "21\n"
     ]
    }
   ],
   "source": [
    "#Write you code here\n",
    "str_nums = \"1,2,3,4,5,6\"\n",
    "\n",
    "#output = 21\n",
    "\n",
    "def sum( str_nums ):\n",
    "    output = 0\n",
    "    for i in range( len( str_nums ) ):\n",
    "        if str_nums[i] != \",\":\n",
    "            output += int( str_nums[i] )\n",
    "    return output\n",
    "\n",
    "print( sum( str_nums ) )"
   ]
  },
  {
   "cell_type": "code",
   "execution_count": null,
   "metadata": {},
   "outputs": [],
   "source": [
    "#Put ChatGPT code here\n",
    "\n"
   ]
  },
  {
   "cell_type": "markdown",
   "metadata": {},
   "source": [
    "Define the following functions:\n",
    "\n",
    "Read_File(file_name)\n",
    "\n",
    "- Input: file_name (materials/numbers.txt)\n",
    "- Output: list of all numbers as ints\n",
    "\n",
    "Mode(list_nums)\n",
    "\n",
    "- Input: list of nums\n",
    "- Ouput: mode of the list"
   ]
  },
  {
   "cell_type": "code",
   "execution_count": 9,
   "metadata": {},
   "outputs": [
    {
     "name": "stdout",
     "output_type": "stream",
     "text": [
      "[1, 2, 1, 4, 5, 34, 23, 23, 23, 1, 5, 5, 5, 2, 6, 7, 5, 3, 5, 43, 54, 23, 6, 42, 23, 1, 2, 3, 4, 5, 6, 7, 8, 1, 3, 5, 34, 23, 35, 56, 3, 2, 4, 2, 34, 23, 5, 6, 7, 87, 54, 234, 2, 1, 5, 45, 34, 2, 4, 6, 8, 9, 56, 34, 2, 4]\n"
     ]
    }
   ],
   "source": [
    "file_path = open( \"data/numbers.txt\" , \"r\" )\n",
    "\n",
    "def Read_File(file_path):\n",
    "    list = []\n",
    "    for lines in file_path :\n",
    "        data = lines.strip('\\n').split(\",\")\n",
    "        for i in range( len( data ) ):\n",
    "            list.append( int( data[i] ) )\n",
    "    return list\n",
    "\n",
    "print( Read_File(file_path) )\n"
   ]
  },
  {
   "cell_type": "code",
   "execution_count": 49,
   "metadata": {},
   "outputs": [],
   "source": [
    "#Put ChatGPT code here\n"
   ]
  },
  {
   "cell_type": "code",
   "execution_count": 23,
   "metadata": {},
   "outputs": [
    {
     "name": "stdout",
     "output_type": "stream",
     "text": [
      "Mode of the list: 5\n"
     ]
    }
   ],
   "source": [
    "file_path = open( \"data/numbers.txt\" , \"r\" )\n",
    "def Read_File(file_path):\n",
    "    list = []\n",
    "    for lines in file_path :\n",
    "        data = lines.strip('\\n').split(\",\")\n",
    "        for i in range( len( data ) ):\n",
    "            list.append( int( data[i] ) )\n",
    "    return list\n",
    "\n",
    "\n",
    "def mode( list ):\n",
    "    max = 0\n",
    "    same = 0\n",
    "    mode_num = 0\n",
    "    list = sorted(list)\n",
    "    for i in range( len( list ) ):\n",
    "        if list[i] == list[ i-1 ]:\n",
    "            same += 1\n",
    "            if max < same:\n",
    "                max = same\n",
    "                mode_num = list[i]\n",
    "        else:\n",
    "            same = 0\n",
    "    return mode_num\n",
    "print( \"Mode of the list: \" + str ( mode( list ) ) )"
   ]
  },
  {
   "cell_type": "code",
   "execution_count": null,
   "metadata": {},
   "outputs": [],
   "source": [
    "#Put ChatGPT code here\n",
    "\n"
   ]
  },
  {
   "cell_type": "markdown",
   "metadata": {},
   "source": [
    "String you functions together in the cell below"
   ]
  },
  {
   "cell_type": "code",
   "execution_count": 22,
   "metadata": {},
   "outputs": [
    {
     "name": "stdout",
     "output_type": "stream",
     "text": [
      "[1, 2, 1, 4, 5, 34, 23, 23, 23, 1, 5, 5, 5, 2, 6, 7, 5, 3, 5, 43, 54, 23, 6, 42, 23, 1, 2, 3, 4, 5, 6, 7, 8, 1, 3, 5, 34, 23, 35, 56, 3, 2, 4, 2, 34, 23, 5, 6, 7, 87, 54, 234, 2, 1, 5, 45, 34, 2, 4, 6, 8, 9, 56, 34, 2, 4]\n",
      "Mode of the list: 5\n"
     ]
    }
   ],
   "source": [
    "#Write you code here\n",
    "file_path = open( \"data/numbers.txt\" , \"r\" )\n",
    "\n",
    "def Read_File(file_path):\n",
    "    list = []\n",
    "    for lines in file_path :\n",
    "        data = lines.strip('\\n').split(\",\")\n",
    "        for i in range( len( data ) ):\n",
    "            list.append( int( data[i] ) )\n",
    "    return list\n",
    "\n",
    "\n",
    "def mode( list ):\n",
    "    max = 0\n",
    "    same = 0\n",
    "    mode_num = 0\n",
    "    list = sorted(list)\n",
    "    for i in range( len( list ) ):\n",
    "        if list[i] == list[ i-1 ]:\n",
    "            same += 1\n",
    "            if max < same:\n",
    "                max = same\n",
    "                mode_num = list[i]\n",
    "        else:\n",
    "            same = 0\n",
    "    return mode_num\n",
    "\n",
    "print( Read_File(file_path) )\n",
    "print( \"Mode of the list: \" + str ( mode( list ) ) )"
   ]
  },
  {
   "cell_type": "code",
   "execution_count": null,
   "metadata": {},
   "outputs": [],
   "source": [
    "#Put ChatGPT code here\n",
    "\n"
   ]
  },
  {
   "cell_type": "markdown",
   "metadata": {},
   "source": [
    "Based on the above codes:\n",
    "\n",
    "Please compare the difference of two codes above. What do you learn after using ChatGPT and how can improve your code? Please write below."
   ]
  },
  {
   "cell_type": "code",
   "execution_count": null,
   "metadata": {},
   "outputs": [],
   "source": []
  }
 ],
 "metadata": {
  "kernelspec": {
   "display_name": "Python 3 (ipykernel)",
   "language": "python",
   "name": "python3"
  },
  "language_info": {
   "codemirror_mode": {
    "name": "ipython",
    "version": 3
   },
   "file_extension": ".py",
   "mimetype": "text/x-python",
   "name": "python",
   "nbconvert_exporter": "python",
   "pygments_lexer": "ipython3",
   "version": "3.11.4"
  },
  "toc": {
   "nav_menu": {
    "height": "48px",
    "width": "252px"
   },
   "number_sections": true,
   "sideBar": true,
   "skip_h1_title": false,
   "toc_cell": false,
   "toc_position": {},
   "toc_section_display": "block",
   "toc_window_display": false
  }
 },
 "nbformat": 4,
 "nbformat_minor": 2
}
