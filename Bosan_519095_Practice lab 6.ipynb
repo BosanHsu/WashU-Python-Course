{
 "cells": [
  {
   "cell_type": "markdown",
   "metadata": {},
   "source": [
    "*Reminder: For each question below, provide solutions using both your own code and ChatGPT's code. To get the ChatGPT solution, simply copy the question, paste it into ChatGPT, and then share the resulting code. However, when it comes to your own solution, you must write the code independently.*"
   ]
  },
  {
   "cell_type": "markdown",
   "metadata": {},
   "source": [
    "# Variable Assignment Practice\n",
    "\n",
    "For each block of code, predict what will be printed out."
   ]
  },
  {
   "cell_type": "code",
   "execution_count": 1,
   "metadata": {},
   "outputs": [],
   "source": [
    "from IPython.core.interactiveshell import InteractiveShell\n",
    "InteractiveShell.ast_node_interactivity = \"all\"\n"
   ]
  },
  {
   "cell_type": "code",
   "execution_count": 2,
   "metadata": {},
   "outputs": [
    {
     "name": "stdout",
     "output_type": "stream",
     "text": [
      "Today is \n",
      "Monday\n",
      "\n",
      "\n",
      "\n",
      "\n",
      "Today is Monday\n",
      "Today is \n",
      "Monday\n",
      "\n",
      "\n",
      "\n",
      "\n",
      "Today is Monday\n",
      "Monday\n"
     ]
    }
   ],
   "source": [
    "# Write your code here\n",
    "\n",
    "def concatenate(str_1, str_2):\n",
    "    str_1 = str_1 + str_2\n",
    "    return str_1 \n",
    "\n",
    "str_1 = \"Today is \"\n",
    "str_2 = \"Monday\"\n",
    "\n",
    "print(str_1)\n",
    "print(str_2)\n",
    "print(\"\\n\\n\\n\")\n",
    "      \n",
    "print(concatenate(str_1, str_2))\n",
    "print(str_1)\n",
    "print(str_2)\n",
    "print(\"\\n\\n\\n\")\n",
    "\n",
    "str_1 = concatenate(str_1, str_2)\n",
    "print(str_1)\n",
    "print(str_2)\n"
   ]
  },
  {
   "cell_type": "code",
   "execution_count": 4,
   "metadata": {},
   "outputs": [
    {
     "name": "stdout",
     "output_type": "stream",
     "text": [
      "Before calling Sum1, x is a\n",
      "Before calling Sum1, y is b\n",
      "Inside function Sum1, x is 5\n",
      "Inside function Sum1, y is 1\n",
      "Inside function Sum2, x is a\n",
      "Inside function Sum2, y is 5\n"
     ]
    }
   ],
   "source": [
    "# Write your code here\n",
    "\n",
    "def Sum1():\n",
    "    x = 5\n",
    "    y = 1\n",
    "    print(\"Inside function Sum1, x is %s\" % x)\n",
    "    print(\"Inside function Sum1, y is %s\" % y)    \n",
    "    Sum2(x)\n",
    "    return\n",
    "\n",
    "def Sum2(y):\n",
    "    print(\"Inside function Sum2, x is %s\" % x)\n",
    "    print(\"Inside function Sum2, y is %s\" % y)\n",
    "\n",
    "x = \"a\"\n",
    "y = \"b\"\n",
    "print(\"Before calling Sum1, x is %s\" % x)\n",
    "print(\"Before calling Sum1, y is %s\" % y)\n",
    "Sum1()\n"
   ]
  },
  {
   "cell_type": "code",
   "execution_count": 5,
   "metadata": {},
   "outputs": [
    {
     "name": "stdout",
     "output_type": "stream",
     "text": [
      "Before function call GetMedianIndex, l = [4, 3, 1, 4, 2, 6, 7]\n",
      "Inside the function GetMedianIndex, l = [1, 2, 3, 4, 4, 6, 7]\n",
      "After function call GetMedianIndex, l = [1, 2, 3, 4, 4, 6, 7]\n",
      "After function call CutList, l = [1, 2, 3]\n"
     ]
    }
   ],
   "source": [
    "# Write your code here\n",
    "\n",
    "def GetMedianIndex(l):\n",
    "    print(\"Inside the function GetMedianIndex, l = %s\" % str(l))\n",
    "    index = int(len(l) / 2)\n",
    "    return index\n",
    "\n",
    "def CutList(middle, sortedList):\n",
    "    cutList = sortedList[:middle]\n",
    "    return cutList\n",
    "\n",
    "l = [4,3,1,4,2,6,7]\n",
    "print(\"Before function call GetMedianIndex, l = %s\" % str(l))\n",
    "l.sort()\n",
    "\n",
    "middle = GetMedianIndex(l)\n",
    "print(\"After function call GetMedianIndex, l = %s\" % str(l))\n",
    "l = CutList(middle, l)\n",
    "print(\"After function call CutList, l = %s\" % str(l))\n"
   ]
  },
  {
   "cell_type": "code",
   "execution_count": 7,
   "metadata": {},
   "outputs": [
    {
     "data": {
      "text/plain": [
       "'Charlie Dilly'"
      ]
     },
     "execution_count": 7,
     "metadata": {},
     "output_type": "execute_result"
    },
    {
     "data": {
      "text/plain": [
       "'Charlie'"
      ]
     },
     "execution_count": 7,
     "metadata": {},
     "output_type": "execute_result"
    }
   ],
   "source": [
    "name_1 = \"Charlie\"\n",
    "\n",
    "name_2 = name_1\n",
    "\n",
    "name_1+= \" Dilly\"\n",
    "\n",
    "name_1\n",
    "name_2 #string immutable"
   ]
  },
  {
   "cell_type": "code",
   "execution_count": 8,
   "metadata": {},
   "outputs": [
    {
     "data": {
      "text/plain": [
       "[10, 2, 3]"
      ]
     },
     "execution_count": 8,
     "metadata": {},
     "output_type": "execute_result"
    },
    {
     "data": {
      "text/plain": [
       "[4, 5, 6]"
      ]
     },
     "execution_count": 8,
     "metadata": {},
     "output_type": "execute_result"
    },
    {
     "data": {
      "text/plain": [
       "[[10, 2, 3], [4, 5, 6]]"
      ]
     },
     "execution_count": 8,
     "metadata": {},
     "output_type": "execute_result"
    }
   ],
   "source": [
    "L1 = [1,2,3]\n",
    "L2 = [4,5,6]\n",
    "L3 = [L1,L2]\n",
    "\n",
    "L1[0]= 10\n",
    "\n",
    "L1\n",
    "L2\n",
    "L3"
   ]
  },
  {
   "cell_type": "markdown",
   "metadata": {},
   "source": [
    "# More Function Practice"
   ]
  },
  {
   "cell_type": "markdown",
   "metadata": {},
   "source": [
    "In this problem, you will implement the mathematically interesting Look-and-Say sequence:\n",
    "\n",
    "1, 11, 21, 1211, 111221, 312211, 13112221, ...\n",
    "\n",
    "Construct the following functions to accomplish out task\n",
    "\n",
    "1. **Parse_String(term)**: Takes in a term of the sequence as a string and returns a list of lists, which keeps track of the the numbers appearing from left to right and the number of times the element appears. So Parse_String('1211') should return [['1','1'], ['1','2'], ['2','1']] since there is \"one 1\", then \"one 2\" and then \"two 1s\".\n",
    "\n",
    "2. **Next_Term(term)**: Takes as input a term of the sequence as a string and return the next term in the sequence.  So Next_Term('1211') should return '111221'.  This function should call the function Parse_String.\n",
    "\n",
    "3. **Read_It(init,n)**: Given an initital term in the sequence that is init, print out the next n-1 terms (in for loop, you will call Next_Term function n-1 times here).\n",
    "\n",
    "For example, if we can use as init = '1211' , n = 4, we will repeat Next_Term function 3 (n-1) times as seen below. \n",
    "\n",
    "1: 111221\n",
    "\n",
    "2: 312211\n",
    "\n",
    "3: 13112221"
   ]
  },
  {
   "cell_type": "code",
   "execution_count": 177,
   "metadata": {},
   "outputs": [
    {
     "name": "stdout",
     "output_type": "stream",
     "text": [
      "[['1', '1'], ['1', '2'], ['2', '1']]\n"
     ]
    },
    {
     "data": {
      "text/plain": [
       "[['1', '1'], ['1', '2'], ['2', '1']]"
      ]
     },
     "execution_count": 177,
     "metadata": {},
     "output_type": "execute_result"
    }
   ],
   "source": [
    "# Write your code here\n",
    "\n",
    "term = '1211'\n",
    "\n",
    "def Parse_String(term):\n",
    "    \n",
    "    count = 0\n",
    "    string_list = []\n",
    "    \n",
    "    for i in range( len (term) ):\n",
    "        \n",
    "        if i == 0:\n",
    "            count += 1\n",
    "            \n",
    "        elif i > 0 and i < len (term) - 1:\n",
    "            if term[i] == term[i-1]:\n",
    "                count += 1\n",
    "            else:\n",
    "                string_list.append([str(count) ,term[i-1]])\n",
    "                count = 1\n",
    "                \n",
    "        elif i == len(term) - 1:\n",
    "               if term[i] == term[i-1]:\n",
    "                count += 1\n",
    "                string_list.append([str(count) ,term[i]])\n",
    "               else:\n",
    "                string_list.append([str(count) ,term[i-1]])\n",
    "                count = 1\n",
    "                string_list.append([str(count) ,term[i]])\n",
    "                \n",
    "            \n",
    "    print(string_list)\n",
    "    \n",
    "    return string_list\n",
    "    \n",
    "Parse_String(term)"
   ]
  },
  {
   "cell_type": "code",
   "execution_count": 178,
   "metadata": {},
   "outputs": [
    {
     "name": "stdout",
     "output_type": "stream",
     "text": [
      "[['1', '1'], ['1', '2'], ['2', '1']]\n",
      "111221\n"
     ]
    },
    {
     "data": {
      "text/plain": [
       "'111221'"
      ]
     },
     "execution_count": 178,
     "metadata": {},
     "output_type": "execute_result"
    }
   ],
   "source": [
    "def Next_Term( string_list ):\n",
    "    \n",
    "    next_t = \"\"\n",
    "    new_list = Parse_String( string_list )\n",
    "    \n",
    "    for i in range( len(new_list) ):\n",
    "        for j in range( len(new_list[0])):\n",
    "            next_t +=  new_list[i][j]\n",
    "    \n",
    "    print( next_t )\n",
    "    \n",
    "    return next_t\n",
    "\n",
    "term = \"1211\"\n",
    "Next_Term(term)"
   ]
  },
  {
   "cell_type": "code",
   "execution_count": 179,
   "metadata": {},
   "outputs": [
    {
     "name": "stdout",
     "output_type": "stream",
     "text": [
      "[['1', '1'], ['1', '2'], ['2', '1']]\n",
      "111221\n",
      "111221\n",
      "[['3', '1'], ['2', '2'], ['1', '1']]\n",
      "312211\n",
      "312211\n",
      "[['1', '3'], ['1', '1'], ['2', '2'], ['2', '1']]\n",
      "13112221\n",
      "13112221\n"
     ]
    }
   ],
   "source": [
    "def Read_It( init, n ):\n",
    "    \n",
    "    \"\"\"Writes the first n terms given the initial terms init.\"\"\"\n",
    "    current = init\n",
    "    \n",
    "    for i in range(n - 1):\n",
    "        next_term = Next_Term( current )\n",
    "        print( next_term )\n",
    "        current = next_term\n",
    "        \n",
    "    return None\n",
    "\n",
    "Read_It( term, len(term))"
   ]
  },
  {
   "cell_type": "markdown",
   "metadata": {},
   "source": [
    "String you functions together in the cell below.\n"
   ]
  },
  {
   "cell_type": "code",
   "execution_count": 180,
   "metadata": {},
   "outputs": [
    {
     "name": "stdout",
     "output_type": "stream",
     "text": [
      "[['1', '1'], ['1', '2'], ['2', '1']]\n",
      "111221\n",
      "111221\n",
      "[['3', '1'], ['2', '2'], ['1', '1']]\n",
      "312211\n",
      "312211\n",
      "[['1', '3'], ['1', '1'], ['2', '2'], ['2', '1']]\n",
      "13112221\n",
      "13112221\n"
     ]
    }
   ],
   "source": [
    "#Write your code here.\n",
    "init = term\n",
    "n = len(term)\n",
    "Read_It( term, len(term))\n",
    "\n"
   ]
  },
  {
   "cell_type": "code",
   "execution_count": null,
   "metadata": {},
   "outputs": [],
   "source": [
    "#Paste ChatGPT code here\n",
    "\n",
    "\n"
   ]
  },
  {
   "cell_type": "markdown",
   "metadata": {},
   "source": [
    "Get the Jaccard similarity beween movies and users: user_likes.txt is a text file which contains the likes data from user. The first line of the file contains the movie names. Each line of the file contains \"a user,a list of binary variables indicating whether one likes the movie.\" The binary is 1 if the user likes the movie and the variable is 0 if the user does not like or has not seen the movie. \n",
    "\n",
    "For example, the file of Jake and Dennis is:\n",
    "\n",
    "         Star Wars  Spiderman  Shell\n",
    "    Jake     1         0        0\n",
    "\n",
    "    Dennis   0         0        1\n",
    "\n",
    "And according to the wikipedia, the Jaccard similarity is (0) / (1 + 1) = 0, whereas the 0 in the numerator means there is no common liked movie between Jake and Dennis and (1+1) in denominator means there are two unique movies liked by them in total.(Jake only like Star Wars and Dennis only likes Shell)\n",
    "\n",
    "**Your task** is to write a series of  functions and the final goal is to do movie recomendation (challenging).\n",
    "\n",
    "1. **Read_Input()**: Read in the input and generate a dictionary where the key is the name and the list is a vector of binary vectors representing whether someone has liked the movie or not. The previous example will give a dictionary like {\"Jake\": [1, 0, 0], \"Dennis\": [0, 0, 1]}. \n",
    "\n",
    "2. **Get_Names(preference)**: takes in the dictionary from the previous function and generate names of all players in a list.\n",
    "\n",
    "3. **Similarity(name_1, name_2, preference)**: This function takes in two names and generates the jaccard similarity of these two people. Jaccard similarity = the common liked movies / (the total number of liked unique moives across two persons).\n",
    "\n",
    "4. **Movie_Soul_Mate(name_1, preference)**: This function takes a person's name and generate the soul mate for this person (soul mate = the person with largest jaccard similarity)\n"
   ]
  },
  {
   "cell_type": "code",
   "execution_count": 133,
   "metadata": {},
   "outputs": [
    {
     "data": {
      "text/plain": [
       "{'Zach Becker': [0, 0, 0, 0, 0, 1, 1, 0, 0, 0],\n",
       " 'Andrew Sweren': [0, 0, 0, 0, 0, 0, 0, 1, 0, 0],\n",
       " 'Sabrina Alexandre': [1, 0, 1, 1, 1, 1, 1, 1, 1, 0],\n",
       " 'Chris Gohlke': [1, 0, 1, 1, 0, 1, 1, 0, 0, 0],\n",
       " 'Jacob Halladay-Glynn': [1, 0, 0, 0, 1, 1, 1, 1, 1, 1],\n",
       " 'Carl': [1, 0, 1, 1, 0, 1, 1, 0, 0, 0],\n",
       " 'Lisa Qu': [1, 1, 0, 1, 1, 1, 1, 0, 1, 0],\n",
       " 'Amal': [1, 0, 0, 1, 0, 1, 1, 0, 1, 0],\n",
       " 'Audrey Freeman': [1, 0, 0, 0, 1, 1, 0, 1, 1, 0],\n",
       " 'Taylor Benard': [0, 0, 0, 0, 1, 1, 1, 1, 1, 0],\n",
       " 'Ryan Farhat-Sabet': [0, 1, 1, 0, 0, 1, 0, 0, 0, 0],\n",
       " 'Philip Katz': [1, 1, 1, 1, 0, 1, 1, 1, 1, 1],\n",
       " 'Rachael Sondag': [0, 0, 0, 0, 0, 0, 0, 1, 1, 0],\n",
       " 'Huayu Gao': [1, 0, 0, 0, 1, 1, 1, 1, 1, 0],\n",
       " 'Ally Portelance': [1, 0, 1, 0, 0, 0, 1, 1, 1, 0],\n",
       " 'Jordan Smith': [1, 0, 0, 0, 1, 0, 0, 1, 1, 0],\n",
       " 'Natalia Boettcher': [0, 0, 0, 0, 0, 0, 0, 1, 1, 0],\n",
       " 'Caroline Stocking': [1, 0, 1, 0, 1, 0, 0, 1, 1, 0],\n",
       " 'Perry Gordon': [0, 0, 1, 1, 1, 1, 0, 1, 1, 0],\n",
       " 'Anthony Cortese': [0, 0, 1, 1, 0, 1, 1, 1, 0, 1],\n",
       " 'Cameron White': [1, 1, 1, 1, 1, 1, 0, 1, 1, 0],\n",
       " 'Tara Robinson': [0, 1, 1, 1, 1, 1, 1, 0, 1, 0],\n",
       " 'Jerry Abah': [1, 1, 1, 1, 1, 1, 1, 1, 0, 0],\n",
       " 'Daniel Podolsky': [1, 0, 0, 0, 0, 1, 1, 1, 1, 0],\n",
       " 'Margot Dupuis': [1, 0, 1, 0, 1, 1, 0, 0, 1, 1],\n",
       " 'Betsy Morgan': [1, 0, 0, 1, 1, 1, 0, 1, 1, 1],\n",
       " 'Savannah Zhang': [0, 0, 1, 0, 1, 1, 1, 1, 1, 0],\n",
       " 'Charlie': [0, 0, 1, 0, 0, 0, 1, 1, 1, 0],\n",
       " 'Jeri Glicksman': [1, 0, 0, 0, 1, 1, 0, 1, 1, 0],\n",
       " 'Chris Detloff': [1, 0, 1, 1, 0, 1, 0, 0, 1, 0],\n",
       " 'Salih': [1, 1, 0, 1, 1, 1, 1, 1, 1, 1]}"
      ]
     },
     "execution_count": 133,
     "metadata": {},
     "output_type": "execute_result"
    }
   ],
   "source": [
    "def Read_Input(movie):\n",
    "    \n",
    "    prefer = {}\n",
    "    lines = movie.readlines()\n",
    "    \n",
    "    for i in lines[1:]:\n",
    "        parsed_line = i.strip(\"\\n\").split(\",\")\n",
    "        name = parsed_line[1]\n",
    "        ratings = parsed_line[2:]\n",
    "        preference[ name ] = [ int(i) for i in ratings ]\n",
    "    \n",
    "    return preference\n",
    "\n",
    "movie = open(\"Data/Movie_Preferences.csv\")\n",
    "Read_Input(movie)\n"
   ]
  },
  {
   "cell_type": "code",
   "execution_count": 134,
   "metadata": {},
   "outputs": [],
   "source": [
    "def Get_Names(prefer):\n",
    "    \n",
    "    return list( prefer.keys() )"
   ]
  },
  {
   "cell_type": "code",
   "execution_count": 135,
   "metadata": {},
   "outputs": [],
   "source": [
    "def Similarity(name_1, name_2, preference):\n",
    "\n",
    "    scores_1 = preference[name_1]\n",
    "    scores_2 = preference[name_2]\n",
    "    denom = 0\n",
    "    num = 0\n",
    "    for i in range( len(scores_1) ):\n",
    "        score_1 = scores_1[i]\n",
    "        score_2 = scores_2[i]\n",
    "        num += min( score_1, score_2)\n",
    "        denom += max( score_1, score_2)\n",
    "    \n",
    "    jaccard = num / denom\n",
    "    \n",
    "    return jaccard\n"
   ]
  },
  {
   "cell_type": "code",
   "execution_count": 136,
   "metadata": {},
   "outputs": [
    {
     "data": {
      "text/plain": [
       "('Chris Gohlke', 1.0)"
      ]
     },
     "execution_count": 136,
     "metadata": {},
     "output_type": "execute_result"
    }
   ],
   "source": [
    "def movie_soul_mate(name_1, preference):\n",
    "    \"\"\"Given a name, get the player that has highest Jaccard similarity with this person.\"\"\"\n",
    "    all_people = Get_Names(preference)\n",
    "    best = -1\n",
    "    for person in all_people:\n",
    "        if person != name_1:\n",
    "            current_jaccard = Similarity(name_1, person, preference)\n",
    "            if current_jaccard >= best:\n",
    "                best = current_jaccard\n",
    "                soulmate = person\n",
    "                \n",
    "    return soulmate, best\n",
    "\n",
    "movie = open(\"Data/Movie_Preferences.csv\")\n",
    "preference = Read_Input(movie)\n",
    "name, score = movie_soul_mate(\"Carl\", preference)\n",
    "name, score\n"
   ]
  },
  {
   "cell_type": "markdown",
   "metadata": {},
   "source": [
    "String your functions together in the cell below"
   ]
  },
  {
   "cell_type": "code",
   "execution_count": 137,
   "metadata": {},
   "outputs": [
    {
     "data": {
      "text/plain": [
       "('Chris Gohlke', 1.0)"
      ]
     },
     "execution_count": 137,
     "metadata": {},
     "output_type": "execute_result"
    }
   ],
   "source": [
    "#Write your code here\n",
    "def Read_Input(movie):\n",
    "    \n",
    "    prefer = {}\n",
    "    lines = movie.readlines()\n",
    "    \n",
    "    for i in lines[1:]:\n",
    "        parsed_line = i.strip(\"\\n\").split(\",\")\n",
    "        name = parsed_line[1]\n",
    "        ratings = parsed_line[2:]\n",
    "        preference[ name ] = [ int(i) for i in ratings ]\n",
    "    \n",
    "    return preference\n",
    "\n",
    "def Get_Names(preference):\n",
    "    \n",
    "    return list( preference.keys() )\n",
    "\n",
    "def Similarity(name_1, name_2, preference):\n",
    "\n",
    "    scores_1 = preference[name_1]\n",
    "    scores_2 = preference[name_2]\n",
    "    denom = 0\n",
    "    num = 0\n",
    "    for i in range( len(scores_1) ):\n",
    "        score_1 = scores_1[i]\n",
    "        score_2 = scores_2[i]\n",
    "        num += min( score_1, score_2)\n",
    "        denom += max( score_1, score_2)\n",
    "    \n",
    "    jaccard = num / denom\n",
    "    \n",
    "    return jaccard\n",
    "\n",
    "def movie_soul_mate(name_1, preference):\n",
    "    \"\"\"Given a name, get the player that has highest Jaccard similarity with this person.\"\"\"\n",
    "    all_people = Get_Names(preference)\n",
    "    best = -1\n",
    "    for person in all_people:\n",
    "        if person != name_1:\n",
    "            current_jaccard = Similarity(name_1, person, preference)\n",
    "            if current_jaccard >= best:\n",
    "                best = current_jaccard\n",
    "                soulmate = person\n",
    "                \n",
    "    return soulmate, best\n",
    "\n",
    "movie = open(\"Data/Movie_Preferences.csv\")\n",
    "preference = Read_Input(movie)\n",
    "name, score = movie_soul_mate(\"Carl\", preference)\n",
    "name, score"
   ]
  },
  {
   "cell_type": "code",
   "execution_count": null,
   "metadata": {},
   "outputs": [],
   "source": [
    "#Paste ChatGPT code here\n",
    "\n"
   ]
  }
 ],
 "metadata": {
  "kernelspec": {
   "display_name": "Python 3 (ipykernel)",
   "language": "python",
   "name": "python3"
  },
  "language_info": {
   "codemirror_mode": {
    "name": "ipython",
    "version": 3
   },
   "file_extension": ".py",
   "mimetype": "text/x-python",
   "name": "python",
   "nbconvert_exporter": "python",
   "pygments_lexer": "ipython3",
   "version": "3.11.4"
  },
  "toc": {
   "colors": {
    "hover_highlight": "#DAA520",
    "navigate_num": "#000000",
    "navigate_text": "#333333",
    "running_highlight": "#FF0000",
    "selected_highlight": "#FFD700",
    "sidebar_border": "#EEEEEE",
    "wrapper_background": "#FFFFFF"
   },
   "moveMenuLeft": true,
   "nav_menu": {
    "height": "30px",
    "width": "252px"
   },
   "navigate_menu": true,
   "number_sections": true,
   "sideBar": true,
   "skip_h1_title": false,
   "threshold": 4,
   "toc_cell": false,
   "toc_position": {},
   "toc_section_display": "block",
   "toc_window_display": false,
   "widenNotebook": false
  }
 },
 "nbformat": 4,
 "nbformat_minor": 2
}
