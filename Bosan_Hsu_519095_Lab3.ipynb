{
 "cells": [
  {
   "cell_type": "markdown",
   "metadata": {},
   "source": [
    "# Practice with New Objects\n",
    "\n"
   ]
  },
  {
   "cell_type": "markdown",
   "metadata": {},
   "source": [
    "## Practice with Dictionaries"
   ]
  },
  {
   "cell_type": "markdown",
   "metadata": {},
   "source": [
    "From the dictionary, produce a list of strings, where each element in the list is a last name.  Your code should work for an arbitrary dictionary formatted as given below. Please print Last names in the dictionary."
   ]
  },
  {
   "cell_type": "code",
   "execution_count": 32,
   "metadata": {},
   "outputs": [
    {
     "name": "stdout",
     "output_type": "stream",
     "text": [
      "['Hsu', 'Jake']\n"
     ]
    }
   ],
   "source": [
    "d = {1: \"Your Name\", 2 : \"Dennis Jake\"}\n",
    "\n",
    "#Write your code here\n",
    "d = {1: \"Bosan Hsu\", 2 : \"Dennis Jake\"}\n",
    "last_names = []\n",
    "\n",
    "for name in d.values():\n",
    "    last_names.append( name.split()[1] )\n",
    "\n",
    "print( last_names )\n",
    "\n"
   ]
  },
  {
   "cell_type": "code",
   "execution_count": null,
   "metadata": {},
   "outputs": [],
   "source": [
    "#Paste ChatGPT code here\n",
    "d = {1: \"Your Name\", 2: \"Dennis Jake\"}\n",
    "\n",
    "# Extract last names from the dictionary\n",
    "last_names = [name.split()[-1] for name in d.values()]\n",
    "\n",
    "# Print the list of last names\n",
    "print(last_names)"
   ]
  },
  {
   "cell_type": "markdown",
   "metadata": {},
   "source": [
    "Consider the following dictionary D of scores.  From this dictionary, produce another dictionary where the keys are the names and the values are the average scores."
   ]
  },
  {
   "cell_type": "code",
   "execution_count": 21,
   "metadata": {},
   "outputs": [
    {
     "name": "stdout",
     "output_type": "stream",
     "text": [
      "{'Jake': 88.5, 'Charlie': 99.66666666666667, 'Ellen': 90.0}\n"
     ]
    }
   ],
   "source": [
    "# creating a new dictionary \n",
    "D = {\"Jake\" : [99,87,91,77], \"Charlie\" : [100,100,99], \"Ellen\" : [95,70,85,100,100]}\n",
    "\n",
    "#Write your code here\n",
    "avg = {}\n",
    "for names, scores in D.items():\n",
    "    avg[names] = sum(scores) / len(scores)\n",
    "    \n",
    "print(avg)\n",
    "    \n"
   ]
  },
  {
   "cell_type": "code",
   "execution_count": 24,
   "metadata": {},
   "outputs": [
    {
     "name": "stdout",
     "output_type": "stream",
     "text": [
      "dict_keys([('Jake', 1), ('Charlie', 2), ('Ellen', 3)])\n",
      "dict_values([100, 200, 300])\n",
      "('Jake', 1)\n",
      "('Charlie', 2)\n",
      "('Ellen', 3)\n"
     ]
    }
   ],
   "source": [
    "my_dict = {(\"Jake\",1) : 100, (\"Charlie\",2) : 200, (\"Ellen\",3) : 300}  \n",
    "# list out keys and values separately \n",
    "\n",
    "print(my_dict.keys())\n",
    "print(my_dict.values())\n",
    "for i in list(my_dict.keys()):\n",
    "    print(i)\n",
    "    \n",
    "# one-liner \n",
    "#print(list(my_dict.keys())[list(my_dict.values()).index(200)]) "
   ]
  },
  {
   "cell_type": "code",
   "execution_count": 19,
   "metadata": {},
   "outputs": [],
   "source": [
    "#Paste ChatGPT code here\n"
   ]
  },
  {
   "cell_type": "markdown",
   "metadata": {},
   "source": [
    "Write the code to check whether the inputted sentence is a pangram, meaning that it contains all 26 letters.  "
   ]
  },
  {
   "cell_type": "code",
   "execution_count": 31,
   "metadata": {},
   "outputs": [
    {
     "name": "stdout",
     "output_type": "stream",
     "text": [
      "pangram\n"
     ]
    }
   ],
   "source": [
    "sentence = \"the quick brown fox jumps over the lazy dog\"\n",
    "#Write your code here\n",
    "\n",
    "a_list=[]\n",
    "for i in range( len(sentence) ):\n",
    "    if sentence[i] not in a_list and sentence[i] != \" \":\n",
    "        a_list.append( sentence[i] )\n",
    "\n",
    "if len( a_list ) == 26:\n",
    "    print(\"pangram\")\n",
    "else:\n",
    "    print(\"not pangram\")"
   ]
  },
  {
   "cell_type": "code",
   "execution_count": null,
   "metadata": {},
   "outputs": [],
   "source": [
    "#Paste ChatGPT code here\n"
   ]
  },
  {
   "cell_type": "markdown",
   "metadata": {},
   "source": [
    "## Practice with String Methods\n",
    "\n",
    "Use the **count** method to count the number of times that str1 appears in str2."
   ]
  },
  {
   "cell_type": "code",
   "execution_count": 23,
   "metadata": {},
   "outputs": [
    {
     "name": "stdout",
     "output_type": "stream",
     "text": [
      "2\n"
     ]
    }
   ],
   "source": [
    "str1 = \"co\"\n",
    "str2 = \"coding in school is cool\"\n",
    "#Write your code here\n",
    "\n",
    "count = str2.count(str1)\n",
    "print(count)"
   ]
  },
  {
   "cell_type": "code",
   "execution_count": null,
   "metadata": {},
   "outputs": [],
   "source": [
    "#Paste ChatGPT code here\n"
   ]
  },
  {
   "cell_type": "markdown",
   "metadata": {},
   "source": [
    "Count the number of words that start with a vowel (a,e,i,o,u) in the following sentences.  The code should work for any sentence. The **split**, **replace** and **lower** methods will be useful here."
   ]
  },
  {
   "cell_type": "code",
   "execution_count": 32,
   "metadata": {},
   "outputs": [
    {
     "name": "stdout",
     "output_type": "stream",
     "text": [
      "7\n"
     ]
    }
   ],
   "source": [
    "sentence = \"\"\"Jake likes to eat apples. So, he went to the store to acquire some. \n",
    "He used his coupons and then he declared: I love apples.\"\"\"\n",
    "\n",
    "#Write your code here\n",
    "sentence =  sentence.lower()\n",
    "split = list( sentence.split() )\n",
    "count = 0\n",
    "\n",
    "for i in range( len( split ) ):\n",
    "    if split[i][0] == \"a\" or split[i][0] == \"e\" or split[i][0] == \"i\" or split[i][0] == \"o\" or split[i][0] == \"u\":\n",
    "        count += 1\n",
    "\n",
    "print( count )"
   ]
  },
  {
   "cell_type": "code",
   "execution_count": null,
   "metadata": {},
   "outputs": [],
   "source": [
    "#Paste ChatGPT code here\n"
   ]
  },
  {
   "cell_type": "markdown",
   "metadata": {},
   "source": [
    "\n",
    "## Practice with List Methods\n",
    " \n",
    "Store all of the words with more than 5 letters in a list. Use the **append** method for lists and the **strip** method for strings to get rid of punctuation."
   ]
  },
  {
   "cell_type": "code",
   "execution_count": 38,
   "metadata": {},
   "outputs": [
    {
     "name": "stdout",
     "output_type": "stream",
     "text": [
      "['apples', 'acquire', 'coupons', 'declared', 'apples']\n"
     ]
    }
   ],
   "source": [
    "sentence = \"\"\"Jake likes to eat apples. So, he went to the store to acquire some. \n",
    "He used his coupons and then he declared: I love apples.\"\"\"\n",
    "\n",
    "#Write you code here\n",
    "sentence = sentence.lower()\n",
    "split = sentence.split( )\n",
    "long_words=[]\n",
    "\n",
    "for i in split:\n",
    "    strip = i.strip(\".,:\")\n",
    "    if len( strip ) > 5:\n",
    "        long_words.append( strip )\n",
    "       \n",
    "print( long_words )\n"
   ]
  },
  {
   "cell_type": "code",
   "execution_count": null,
   "metadata": {},
   "outputs": [],
   "source": [
    "#Paste ChatGPT code here\n"
   ]
  },
  {
   "cell_type": "markdown",
   "metadata": {},
   "source": [
    "From the list L, created a list of lists called Q, which slices around the number 4. For example, if  L = [1,2,3,4,5,6], then Q = [[1,2,3], [5,6]].  The code should work for general L with a single 4. Use the **index** and **append** methods. "
   ]
  },
  {
   "cell_type": "code",
   "execution_count": 73,
   "metadata": {},
   "outputs": [
    {
     "name": "stdout",
     "output_type": "stream",
     "text": [
      "[3, 6]\n"
     ]
    },
    {
     "data": {
      "text/plain": [
       "[[1, 2, 3], [6, 5], [10, 3]]"
      ]
     },
     "execution_count": 73,
     "metadata": {},
     "output_type": "execute_result"
    }
   ],
   "source": [
    "L=[1,2,3,4,6,5,4,10,3]\n",
    "\n",
    "\n",
    "#Write you code here\n",
    "\n",
    "num4 = []\n",
    "Q = []\n",
    "\n",
    "for i in range( len(L) ):\n",
    "    if L[i] == 4:\n",
    "        num4.append(i)\n",
    "print( num4 )\n",
    "\n",
    "start = 0\n",
    "for i in range( len(L) ):\n",
    "    if i in num4:\n",
    "        Q.append( L[ start : i ] )\n",
    "        start += i + 1\n",
    "        \n",
    "last_4 = num4[-1]\n",
    "Q.append( L[ (last_4 + 1) :  ] )\n",
    "\n",
    "Q"
   ]
  },
  {
   "cell_type": "code",
   "execution_count": null,
   "metadata": {},
   "outputs": [],
   "source": [
    "#Paste ChatGPT code here\n"
   ]
  },
  {
   "cell_type": "markdown",
   "metadata": {},
   "source": [
    "Based on the above codes:\n",
    "\n",
    "Please compare the difference of two codes above. What do you learn after using ChatGPT and how can improve your code? Please write below."
   ]
  },
  {
   "cell_type": "code",
   "execution_count": null,
   "metadata": {},
   "outputs": [],
   "source": []
  }
 ],
 "metadata": {
  "kernelspec": {
   "display_name": "Python 3 (ipykernel)",
   "language": "python",
   "name": "python3"
  },
  "language_info": {
   "codemirror_mode": {
    "name": "ipython",
    "version": 3
   },
   "file_extension": ".py",
   "mimetype": "text/x-python",
   "name": "python",
   "nbconvert_exporter": "python",
   "pygments_lexer": "ipython3",
   "version": "3.11.4"
  },
  "toc": {
   "colors": {
    "hover_highlight": "#DAA520",
    "navigate_num": "#000000",
    "navigate_text": "#333333",
    "running_highlight": "#FF0000",
    "selected_highlight": "#FFD700",
    "sidebar_border": "#EEEEEE",
    "wrapper_background": "#FFFFFF"
   },
   "moveMenuLeft": true,
   "nav_menu": {
    "height": "66px",
    "width": "252px"
   },
   "navigate_menu": true,
   "number_sections": true,
   "sideBar": true,
   "skip_h1_title": false,
   "threshold": 4,
   "toc_cell": false,
   "toc_position": {},
   "toc_section_display": "block",
   "toc_window_display": false,
   "widenNotebook": false
  }
 },
 "nbformat": 4,
 "nbformat_minor": 2
}
