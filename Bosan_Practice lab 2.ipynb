{
 "cells": [
  {
   "cell_type": "markdown",
   "metadata": {},
   "source": [
    "*Reminder: For each question below, provide solutions using both your own code and ChatGPT's code. To get the ChatGPT solution, simply copy the question, paste it into ChatGPT, and then share the resulting code. However, when it comes to your own solution, you must write the code independently.*"
   ]
  },
  {
   "cell_type": "markdown",
   "metadata": {},
   "source": [
    "# Conditionals\n",
    "\n",
    "Check if the x is perfect square.  If it is, print \"x is a perfect square\".  If not print \"x is not a perfect square\"."
   ]
  },
  {
   "cell_type": "code",
   "execution_count": 48,
   "metadata": {},
   "outputs": [
    {
     "name": "stdout",
     "output_type": "stream",
     "text": [
      "x is a perfect square\n"
     ]
    }
   ],
   "source": [
    "#Write your code here\n",
    "x = 25\n",
    "import math\n",
    "square_x = math.sqrt(x)\n",
    "if square_x % 1 == 0:\n",
    "    print( \"x is a perfect square\" )\n",
    "else:\n",
    "    print( \"x is not a perfect square\" )"
   ]
  },
  {
   "cell_type": "code",
   "execution_count": 49,
   "metadata": {},
   "outputs": [
    {
     "name": "stdout",
     "output_type": "stream",
     "text": [
      "25 is a perfect square\n"
     ]
    }
   ],
   "source": [
    "#Paste ChatGPT code here\n",
    "import math\n",
    "\n",
    "x = 25\n",
    "\n",
    "# Calculate the square root of x\n",
    "sqrt_x = math.sqrt(x)\n",
    "\n",
    "# Check if the square root is an integer\n",
    "if sqrt_x.is_integer():\n",
    "    print(f\"{x} is a perfect square\")\n",
    "else:\n",
    "    print(f\"{x} is not a perfect square\")"
   ]
  },
  {
   "cell_type": "markdown",
   "metadata": {},
   "source": [
    "Create a list L of arbitrary length. Get the median.\n"
   ]
  },
  {
   "cell_type": "code",
   "execution_count": 50,
   "metadata": {},
   "outputs": [
    {
     "name": "stdout",
     "output_type": "stream",
     "text": [
      "12\n"
     ]
    }
   ],
   "source": [
    "#Write your code here\n",
    "L = [213, 123, 21, 2, 12, 11, 7]\n",
    "L = sorted( L )\n",
    "length = len( L )\n",
    "median_num = length//2\n",
    "median = L[ median_num ]\n",
    "print( median )"
   ]
  },
  {
   "cell_type": "code",
   "execution_count": 47,
   "metadata": {},
   "outputs": [
    {
     "name": "stdout",
     "output_type": "stream",
     "text": [
      "Median: 12\n"
     ]
    }
   ],
   "source": [
    "#Paste ChatGPT code here\n",
    "L = [213, 123, 21, 2, 12, 11, 7]\n",
    "\n",
    "# Sort the list in ascending order\n",
    "L.sort()\n",
    "\n",
    "# Calculate the length of the list\n",
    "n = len(L)\n",
    "\n",
    "# Check if the list has an odd or even number of elements\n",
    "if n % 2 == 1:\n",
    "    # Odd number of elements\n",
    "    median = L[n // 2]\n",
    "else:\n",
    "    # Even number of elements\n",
    "    middle1 = L[(n - 1) // 2]\n",
    "    middle2 = L[n // 2]\n",
    "    median = (middle1 + middle2) / 2\n",
    "\n",
    "print(\"Median:\", median)"
   ]
  },
  {
   "cell_type": "markdown",
   "metadata": {},
   "source": [
    "If there are fewer than 10 students in the class, then the top three students get an  A and the rest get a B.  Otherwise, the grade breakdown is as follows:\n",
    "\n",
    "- A: 90-100\n",
    "- B: 80-89\n",
    "- C: 70 - 79\n",
    "- D: 65 - 69\n",
    "- Failing: Below 65\n",
    "\n",
    "Given the list of grades in grades_list, print the grade received by the last student in this list. So if we have\n",
    "\n",
    "    grade_list = [50, 90, 91, 88, 75]\n",
    "\n",
    "we want to print the grade received by the student who received a 75. In this case it would be a B.\n",
    "\n"
   ]
  },
  {
   "cell_type": "code",
   "execution_count": 51,
   "metadata": {},
   "outputs": [
    {
     "name": "stdout",
     "output_type": "stream",
     "text": [
      "THE GRADE OF 91 is A\n",
      "THE GRADE OF 90 is A\n",
      "THE GRADE OF 88 is A\n",
      "THE GRADE OF 75 is B\n",
      "THE GRADE OF 50 is B\n"
     ]
    }
   ],
   "source": [
    "#Write your code here\n",
    "grade_list = [50, 90, 91, 88, 75]\n",
    "grade_list = sorted(grade_list, reverse = True)\n",
    "\n",
    "if len(grade_list) < 10:\n",
    "    for i in range(len(grade_list)):\n",
    "        if i < 3:\n",
    "            print(\"THE GRADE OF \"+str(grade_list[i])+\" is A\")\n",
    "        else:\n",
    "            print(\"THE GRADE OF \"+str(grade_list[i])+\" is B\")\n",
    "else:\n",
    "    for i in range(len(grade_list)):\n",
    "        if gradelist[i] <= 100 and gradelist[i] >= 90:\n",
    "            print(\"THE GRADE OF \"+str(grade_list[i])+\" is A\")\n",
    "        elif gradelist[i] < 90 and gradelist[i] >= 80:\n",
    "            print(\"THE GRADE OF \"+str(grade_list[i])+\" is B\")\n",
    "        elif gradelist[i] < 80 and gradelist[i] >= 70:\n",
    "            print(\"THE GRADE OF \"+str(grade_list[i])+\" is C\")\n",
    "        elif gradelist[i] < 70 and gradelist[i] >= 60:\n",
    "            print(\"THE GRADE OF \"+str(grade_list[i])+\" is D\")\n",
    "        else:\n",
    "            print(\"THE GRADE OF \"+str(grade_list[i])+\" is Failing\")\n"
   ]
  },
  {
   "cell_type": "code",
   "execution_count": 52,
   "metadata": {},
   "outputs": [
    {
     "name": "stdout",
     "output_type": "stream",
     "text": [
      "B\n"
     ]
    }
   ],
   "source": [
    "#Paste ChatGPT code here\n",
    "grades_list = [50, 90, 91, 88, 75]\n",
    "\n",
    "if len(grades_list) < 10:\n",
    "    # If there are fewer than 10 students, the top three get an A and the rest get a B\n",
    "    sorted_grades = sorted(grades_list, reverse=True)\n",
    "    last_student_grade = grades_list[-1]\n",
    "\n",
    "    if last_student_grade >= sorted_grades[2]:\n",
    "        print(\"A\")\n",
    "    else:\n",
    "        print(\"B\")\n",
    "else:\n",
    "    # For 10 or more students, apply the grading scale\n",
    "    last_student_grade = grades_list[-1]\n",
    "\n",
    "    if 90 <= last_student_grade <= 100:\n",
    "        print(\"A\")\n",
    "    elif 80 <= last_student_grade <= 89:\n",
    "        print(\"B\")\n",
    "    elif 70 <= last_student_grade <= 79:\n",
    "        print(\"C\")\n",
    "    elif 65 <= last_student_grade <= 69:\n",
    "        print(\"D\")\n",
    "    else:\n",
    "        print(\"Failing\")\n"
   ]
  },
  {
   "cell_type": "markdown",
   "metadata": {},
   "source": [
    "# For Loops\n",
    "\n",
    "Count the number of n's in your name (lower and uppercase count)"
   ]
  },
  {
   "cell_type": "code",
   "execution_count": 53,
   "metadata": {},
   "outputs": [
    {
     "name": "stdout",
     "output_type": "stream",
     "text": [
      "1\n"
     ]
    }
   ],
   "source": [
    "#Write your code here\n",
    "name = \"Bosan\"\n",
    "count = 0\n",
    "for i in name:\n",
    "    if i == \"N\" or i == \"n\":\n",
    "        count += 1\n",
    "print(count)"
   ]
  },
  {
   "cell_type": "code",
   "execution_count": 54,
   "metadata": {},
   "outputs": [
    {
     "name": "stdout",
     "output_type": "stream",
     "text": [
      "Number of 'n's in the name: 1\n"
     ]
    }
   ],
   "source": [
    "#Paste ChatGPT code here\n",
    "name = \"Your Name\"\n",
    "count_n = name.lower().count('n')  # Convert the string to lowercase and count 'n'\n",
    "\n",
    "print(\"Number of 'n's in the name:\", count_n)"
   ]
  },
  {
   "cell_type": "markdown",
   "metadata": {},
   "source": [
    "Get all of the factors of a number and store them in a list"
   ]
  },
  {
   "cell_type": "code",
   "execution_count": 55,
   "metadata": {},
   "outputs": [
    {
     "name": "stdout",
     "output_type": "stream",
     "text": [
      "[1, 2, 3, 6]\n"
     ]
    }
   ],
   "source": [
    "#Write your code here\n",
    "n = 6 # [1, 2, 3, 6]\n",
    "list = []\n",
    "\n",
    "for i in range( 1 , n + 1 ):\n",
    "    if n % i == 0:\n",
    "        list.append(i)\n",
    "        \n",
    "print(list)\n"
   ]
  },
  {
   "cell_type": "code",
   "execution_count": 56,
   "metadata": {},
   "outputs": [
    {
     "name": "stdout",
     "output_type": "stream",
     "text": [
      "[1, 2, 3, 6]\n"
     ]
    }
   ],
   "source": [
    "#Paste ChatGPT code here\n",
    "n = 6\n",
    "factors = []\n",
    "\n",
    "for i in range(1, n + 1):\n",
    "    if n % i == 0:\n",
    "        factors.append(i)\n",
    "\n",
    "print(factors)"
   ]
  },
  {
   "cell_type": "markdown",
   "metadata": {},
   "source": [
    "Generate the first N numbers of the Fibonacci sequence where \n",
    "\n",
    "$a_0 = 1$\n",
    "\n",
    "$a_1=1$\n",
    "\n",
    "$a_n = a_{n-1} + a_{n-2}$"
   ]
  },
  {
   "cell_type": "code",
   "execution_count": 28,
   "metadata": {},
   "outputs": [
    {
     "name": "stdout",
     "output_type": "stream",
     "text": [
      "[1, 1, 2, 3, 5, 8, 13, 21, 34, 55]\n"
     ]
    }
   ],
   "source": [
    "#Write your code here\n",
    "n = 10\n",
    "list = [ 1 , 1 ]\n",
    "\n",
    "for i in range( 2 , 10 ):\n",
    "    add = list[ i - 1 ] + list[ i - 2 ] \n",
    "    list.append( add )\n",
    "    \n",
    "print(list)\n"
   ]
  },
  {
   "cell_type": "code",
   "execution_count": 57,
   "metadata": {},
   "outputs": [
    {
     "name": "stdout",
     "output_type": "stream",
     "text": [
      "Fibonacci sequence of length 10:\n",
      "[1, 1, 2, 3, 5, 8, 13, 21, 34, 55]\n"
     ]
    }
   ],
   "source": [
    "#Paste ChatGPT code here\n",
    "N = 10\n",
    "fib_sequence = [1, 1]\n",
    "\n",
    "while len(fib_sequence) < N:\n",
    "    next_number = fib_sequence[-1] + fib_sequence[-2]\n",
    "    fib_sequence.append(next_number)\n",
    "\n",
    "print(f\"Fibonacci sequence of length {N}:\")\n",
    "print(fib_sequence)"
   ]
  },
  {
   "cell_type": "markdown",
   "metadata": {},
   "source": [
    "Compute the dot product of lists l1 and l2. **This is an example where iterating over the index is better than over the elements themselves**\n"
   ]
  },
  {
   "cell_type": "code",
   "execution_count": 58,
   "metadata": {},
   "outputs": [
    {
     "name": "stdout",
     "output_type": "stream",
     "text": [
      "947\n"
     ]
    }
   ],
   "source": [
    "#Write your code here\n",
    "l1 = [2, 3, 4, 5, 6, 1, 90]\n",
    "l2 = [3, 1, 5, 1, 2, 1, 10]\n",
    "l1l2 = 0\n",
    "\n",
    "for i in range( len(l1) ):\n",
    "        l1l2 += l1[i] * l2[i]\n",
    "print(l1l2)\n",
    "\n"
   ]
  },
  {
   "cell_type": "code",
   "execution_count": 59,
   "metadata": {},
   "outputs": [
    {
     "name": "stdout",
     "output_type": "stream",
     "text": [
      "Dot product: 947\n"
     ]
    }
   ],
   "source": [
    "#Paste ChatGPT code here\n",
    "l1 = [2, 3, 4, 5, 6, 1, 90]\n",
    "l2 = [3, 1, 5, 1, 2, 1, 10]\n",
    "\n",
    "# Check if the lists have the same length\n",
    "if len(l1) != len(l2):\n",
    "    print(\"Lists must have the same length to compute the dot product.\")\n",
    "else:\n",
    "    dot_product = 0\n",
    "    for i in range(len(l1)):\n",
    "        dot_product += l1[i] * l2[i]\n",
    "\n",
    "    print(\"Dot product:\", dot_product)"
   ]
  },
  {
   "cell_type": "markdown",
   "metadata": {},
   "source": [
    "Given two strings, test how many times the first string contains the second.  For example if str1 = \"**co**ding is **co**ol\" and str2 = \"co\" then output should be 2."
   ]
  },
  {
   "cell_type": "code",
   "execution_count": 60,
   "metadata": {},
   "outputs": [
    {
     "name": "stdout",
     "output_type": "stream",
     "text": [
      "2\n"
     ]
    }
   ],
   "source": [
    "#Write you code here\n",
    "str1 = \"coding is cool\"\n",
    "str2 = \"co\"\n",
    "\n",
    "contain_time = 0\n",
    "\n",
    "for i in range( len(str1) ):\n",
    "    j = len(str2)\n",
    "    if ( i + j - 1 ) < len(str1):\n",
    "        if str1[ i ] + str1[ i+j-1 ] == str2:\n",
    "            contain_time += 1\n",
    "\n",
    "\n",
    "print(contain_time)\n",
    "        \n"
   ]
  },
  {
   "cell_type": "code",
   "execution_count": 44,
   "metadata": {},
   "outputs": [
    {
     "name": "stdout",
     "output_type": "stream",
     "text": [
      "2\n"
     ]
    }
   ],
   "source": [
    "#Paste ChatGPT code here\n",
    "str1 = \"coding is cool\"\n",
    "str2 = \"co\"\n",
    "\n",
    "# Use the count() method to count occurrences of str2 in str1\n",
    "count = str1.count(str2)\n",
    "\n",
    "print(count)\n"
   ]
  },
  {
   "cell_type": "markdown",
   "metadata": {},
   "source": [
    "Code up the locker brain teaser below. Print out a list of the open locker numbers. Let N be the number of lockers and students"
   ]
  },
  {
   "cell_type": "code",
   "execution_count": 62,
   "metadata": {},
   "outputs": [
    {
     "name": "stdout",
     "output_type": "stream",
     "text": [
      "1\n",
      "4\n",
      "9\n",
      "16\n",
      "25\n",
      "36\n",
      "49\n",
      "64\n",
      "81\n",
      "100\n"
     ]
    }
   ],
   "source": [
    "#Write your code here  \n",
    "N=100\n",
    "locks = [ 0 for item in range(N + 1) ]\n",
    "for students in range( 1 , N+1 ):\n",
    "    for lockers in range( 1 , N+1 ):\n",
    "        if lockers % students == 0:\n",
    "            locks[ lockers ] = 1 - locks[ lockers ]\n",
    "for lockers in range( 1 , N+1 ):\n",
    "    if locks[ lockers ] == 1:\n",
    "        print(lockers)\n"
   ]
  },
  {
   "cell_type": "markdown",
   "metadata": {},
   "source": [
    "initial[0,0,0,0,0,0]\n",
    "s=1--> [1,1,1,1,1,1]\n",
    "s=2--> [1,0,1,0,1,0]\n",
    "s=3--> [1,0,0,0,1,1]\n",
    "s=4--> [1,0,0,1,1,1]\n",
    "s=5--> [1,0,0,1,0,1]\n",
    "s=6--> [1,0,0,1,0,0]"
   ]
  },
  {
   "cell_type": "code",
   "execution_count": 46,
   "metadata": {},
   "outputs": [
    {
     "name": "stdout",
     "output_type": "stream",
     "text": [
      "Open lockers: [1, 4, 9, 16, 25, 36, 49, 64, 81, 100]\n"
     ]
    }
   ],
   "source": [
    "#Paste ChatGPT code here\n",
    "def simulate_lockers(n):\n",
    "    lockers = [0] * n  # Initialize all lockers as closed (0)\n",
    "\n",
    "    for student in range(1, n + 1):\n",
    "        for locker in range(student - 1, n, student):\n",
    "            lockers[locker] = 1 - lockers[locker]  # Toggle the state of the locker\n",
    "\n",
    "    return lockers\n",
    "\n",
    "def print_open_lockers(lockers):\n",
    "    open_lockers = [i + 1 for i, state in enumerate(lockers) if state == 1]\n",
    "    return open_lockers\n",
    "\n",
    "n = 100  # Number of lockers and students\n",
    "final_locker_state = simulate_lockers(n)\n",
    "open_lockers = print_open_lockers(final_locker_state)\n",
    "print(\"Open lockers:\", open_lockers)"
   ]
  },
  {
   "cell_type": "markdown",
   "metadata": {},
   "source": [
    "Based on the above codes:"
   ]
  },
  {
   "cell_type": "markdown",
   "metadata": {},
   "source": [
    "Please compare the difference of two codes above. What do you learn after using ChatGPT and how can improve your code? Please write below."
   ]
  },
  {
   "cell_type": "code",
   "execution_count": null,
   "metadata": {},
   "outputs": [],
   "source": [
    "#I think that ChatGPT's code are more aware of minor details, and it knows more codes. \n",
    "#Hence, even if it is highly aware of details, its coding lines can still be as short as possible.\n",
    "#After writing my own codes first, it's always good to see how ChatGPT adjust my codes, whether mine are right or not.\n",
    "#However, sometimes ChatGPT might not get the point of a question, so its suggestion might not be accurate."
   ]
  }
 ],
 "metadata": {
  "kernelspec": {
   "display_name": "Python 3 (ipykernel)",
   "language": "python",
   "name": "python3"
  },
  "language_info": {
   "codemirror_mode": {
    "name": "ipython",
    "version": 3
   },
   "file_extension": ".py",
   "mimetype": "text/x-python",
   "name": "python",
   "nbconvert_exporter": "python",
   "pygments_lexer": "ipython3",
   "version": "3.11.4"
  },
  "toc": {
   "nav_menu": {
    "height": "48px",
    "width": "252px"
   },
   "number_sections": true,
   "sideBar": true,
   "skip_h1_title": false,
   "toc_cell": false,
   "toc_position": {},
   "toc_section_display": "block",
   "toc_window_display": false
  }
 },
 "nbformat": 4,
 "nbformat_minor": 2
}
